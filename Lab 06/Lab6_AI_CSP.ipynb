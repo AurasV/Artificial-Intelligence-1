{
 "cells": [
  {
   "cell_type": "markdown",
   "metadata": {},
   "source": [
    "# Artificial Intelligence \n",
    "\n",
    "## _Constraint Satisfaction Problems (CSPs)_\n"
   ]
  },
  {
   "cell_type": "markdown",
   "metadata": {},
   "source": [
    "## Introduction\n",
    "\n",
    "**Constraint Satisfaction Problems** are defined by:\n",
    "* a collection of discrete **variables**;\n",
    "* a **domain (range) of values** for each variable;\n",
    "* a set of **constraints** over variables."
   ]
  },
  {
   "cell_type": "markdown",
   "metadata": {},
   "source": [
    "## From definitions to know-how"
   ]
  },
  {
   "cell_type": "code",
   "execution_count": 18,
   "metadata": {},
   "outputs": [],
   "source": [
    "# Useful libraries:\n",
    "from copy import deepcopy\n",
    "from itertools import combinations"
   ]
  },
  {
   "cell_type": "markdown",
   "metadata": {},
   "source": [
    "Pythonic speaking:\n",
    "  - each variable will be represented by a string,\n",
    "  \n",
    "```python\n",
    "    vars_list = ['A', 'B', 'C']\n",
    "```\n",
    "\n",
    "   - the set of domains will be a dictionary with one entry for each variable:\n",
    "     + the key will be the name of the variable,\n",
    "     + the value is given by the range values of that variable\n",
    "\n",
    "```python\n",
    "    domains_dict = {'A': [1, 2, 3], 'B': [1, 5, 9], 'C': [-2, -1]}\n",
    "```\n",
    "\n",
    "   - a constraint will be represented by a `tuple` consisting of:\n",
    "     + a `list` of variables involved in the constraint\n",
    "     + an anonymous function that returns `True` or `False`\n",
    "\n",
    "```python\n",
    "    constraints = [(['A', 'B', 'C'], lambda a, b, c: a + b + c == 0)]\n",
    "```\n",
    "\n",
    "The **solution** will be represented through a dictionary that indicates a value for each variable (e.g. `{'A': 1,'B': 1,'C': -2}`).\n",
    "\n",
    "The **cost** is given by the number of constraints ignored by the solution."
   ]
  },
  {
   "cell_type": "markdown",
   "metadata": {},
   "source": [
    "Math Problem"
   ]
  },
  {
   "cell_type": "code",
   "execution_count": 19,
   "metadata": {},
   "outputs": [],
   "source": [
    "VarsA = [\"A\", \"B\", \"C\", \"D\", \"E\"]\n",
    "DomainsA = {v: [i for i in range(10)] for v in VarsA}\n",
    "ConstraintsA = [(list(p), lambda x,y: x != y) for p in combinations(VarsA, 2)] # all the values are different\n",
    "ConstraintsA.append(([\"A\",\"B\"], lambda a, b: a + b == 10))\n",
    "ConstraintsA.append(([\"B\",\"D\"], lambda b, d: b + d == 6))\n",
    "ConstraintsA.append(([\"C\"], lambda c: c < 5))\n",
    "ConstraintsA.append(([\"A\"], lambda a: a > 5))\n",
    "ConstraintsA.append(([\"A\",\"B\",\"C\",\"D\",\"E\"], lambda a, b, c, d, e: a + b + c + d + e == 30))\n",
    "MathProblem = {\"Vars\": VarsA, \"Domains\": DomainsA, \"Constraints\": ConstraintsA}"
   ]
  },
  {
   "cell_type": "markdown",
   "metadata": {},
   "source": [
    "Map-Coloring Problem"
   ]
  },
  {
   "cell_type": "code",
   "execution_count": 20,
   "metadata": {},
   "outputs": [],
   "source": [
    "VarsC = [\"France\", \"Germany\", \"Loux\", \"Belgium\", \"Netherlands\"]\n",
    "DomainsC = {v: [\"blue\", \"red\", \"yellow\", \"green\"] for v in VarsC}\n",
    "ConstraintsC = []\n",
    "for (a, b) in [(\"France\", \"Germany\"), (\"France\", \"Belgium\"), (\"France\", \"Loux\"),\n",
    "               (\"Belgium\", \"Netherlands\"), (\"Belgium\", \"Loux\"), (\"Belgium\", \"Germany\"),\n",
    "               (\"Loux\", \"Germany\"), (\"Netherlands\", \"Germany\")]:\n",
    "    ConstraintsC.append(([a, b], lambda a, b: a != b))\n",
    "ColoringProblem = {\"Vars\": VarsC, \"Domains\": DomainsC, \"Constraints\": ConstraintsC}"
   ]
  },
  {
   "cell_type": "markdown",
   "metadata": {},
   "source": [
    "### Task 0\n",
    "\n",
    "Implement `get_constraints` function which receives a variable `var` and a list of constraints `constraints` and return only those constraints that entail the given variable.\n",
    "\n",
    "_Expected output:_\n",
    "\n",
    "```\n",
    "Constraints = [([\"A\", \"B\"], lambda a,b: a<b), ([\"A\"], lambda a: a<5)]\n",
    "get_constraints(\"B\", Constraints)\n",
    "==> [([\"A\", \"B\"], lambda a,b: a<b)]\n",
    "get_constraints(\"A\", Constraints)\n",
    "==> [([\"A\", \"B\"], lambda a,b: a<b), ([\"A\"], lambda a: a<5)]\n",
    "```"
   ]
  },
  {
   "cell_type": "code",
   "execution_count": 31,
   "metadata": {},
   "outputs": [
    {
     "name": "stdout",
     "output_type": "stream",
     "text": [
      "[(['France', 'Germany'], <function <lambda> at 0x000002796148DF80>), (['France', 'Belgium'], <function <lambda> at 0x000002796148E5C0>), (['France', 'Loux'], <function <lambda> at 0x000002796148E2A0>)]\n"
     ]
    }
   ],
   "source": [
    "def get_constraints(var, constraints):\n",
    "    return_constraints = []\n",
    "    \n",
    "    for constraint in constraints:\n",
    "        variables = constraint[0]\n",
    "        if var in variables:\n",
    "            return_constraints.append(constraint)\n",
    "    \n",
    "    return return_constraints\n",
    "\n",
    "\n",
    "print(get_constraints(\"France\", ConstraintsC)) # => [(['France', 'Germany'], ...), (['France', 'Belgium'], ...), (['France', 'Loux'], ...)]\n"
   ]
  },
  {
   "cell_type": "markdown",
   "metadata": {},
   "source": [
    "### Task 1\n",
    "\n",
    "Implement the `fixed_constraints` function which receives `solution` as a partial solution and a set of constraints `constraints`. The function returns only those constraints that can be evaluated (i.e. the variables involved are found in the partial solution)."
   ]
  },
  {
   "cell_type": "code",
   "execution_count": 22,
   "metadata": {},
   "outputs": [
    {
     "name": "stdout",
     "output_type": "stream",
     "text": [
      "[(['France', 'Belgium'], <function <lambda> at 0x000002796148E5C0>)]\n",
      "[(['A', 'C'], <function <listcomp>.<lambda> at 0x000002796148D940>), (['C'], <function <lambda> at 0x000002796148D9E0>), (['A'], <function <lambda> at 0x000002796148DA80>)]\n"
     ]
    }
   ],
   "source": [
    "def fixed_constraints(solution, constraints):\n",
    "    return_constraints = []\n",
    "    \n",
    "    for constraint in constraints:\n",
    "        variables = constraint[0]\n",
    "        \n",
    "        if all(var in solution for var in variables):\n",
    "            return_constraints.append(constraint)\n",
    "    \n",
    "    return return_constraints\n",
    "\n",
    "print(fixed_constraints({\"France\": \"blue\", \"Belgium\": \"green\"}, ConstraintsC)) # => [(['France', 'Belgium'], ...)]\n",
    "print(fixed_constraints({\"A\": 1, \"C\": 2}, ConstraintsA)) # => [(['A', 'C'], ...), (['C'], ...), (['A'], ...)]"
   ]
  },
  {
   "cell_type": "markdown",
   "metadata": {},
   "source": [
    "### Task 2\n",
    "\n",
    "Implement the `check_constraint` function which receives as a constraint the variable `constraint`, a partial solution `solution` and returns `True` if the solution respects the constraint and `False` otherwise.\n",
    "\n",
    "_**Hint:**_ to call a function knowing the list of its parameters use `f(*args)`, where `args` is the list of arguments."
   ]
  },
  {
   "cell_type": "code",
   "execution_count": 28,
   "metadata": {},
   "outputs": [
    {
     "name": "stdout",
     "output_type": "stream",
     "text": [
      "True\n",
      "False\n",
      "True\n",
      "False\n"
     ]
    }
   ],
   "source": [
    "def check_constraint(solution, constraint):\n",
    "    variables, function = constraint\n",
    "    \n",
    "    args = []\n",
    "    for var in variables:\n",
    "        value = solution[var]\n",
    "        args.append(value)\n",
    "    \n",
    "    return function(*args)\n",
    "\n",
    "print(check_constraint({\"France\": \"blue\", \"Belgium\": \"green\"}, ConstraintsC[1])) # True\n",
    "print(check_constraint({\"France\": \"blue\", \"Belgium\": \"blue\"}, ConstraintsC[1])) # False\n",
    "print(check_constraint({\"C\": 10, \"A\": 10}, ConstraintsA[-2])) # True\n",
    "print(check_constraint({\"C\": 10, \"A\": 3}, ConstraintsA[-2])) # False\n"
   ]
  },
  {
   "cell_type": "markdown",
   "metadata": {},
   "source": [
    "### Task 3: PCSP algorithm\n",
    "\n",
    "Fill in what is missing in the PCSP algorithm.\n",
    "\n",
    "* `vars` - variables that remain to be checked\n",
    "* `domains` - the domains for the variables that remain to be verified, with the values that remain to be verified for each variable\n",
    "* `constrains` - the list of constraints\n",
    "* `acceptable_cost` - the cost for which the solution is considered satisfactory\n",
    "* `solution` - the partial solution, containing values for the variables checked so far\n",
    "* `cost` - the cost of unsatisfied constraints\n",
    "\n",
    "Function return value is `True` if a satisfactory complete solution has been found (see acceptable cost), and `False` otherwise.\n",
    "\n",
    "Two global variables are used:\n",
    "\n",
    "* `best_cost` - the best (smallest) cost so far in exploration, for a complete solution\n",
    "* `best_solution` - the solution corresponding to the best cost"
   ]
  },
  {
   "cell_type": "code",
   "execution_count": 24,
   "metadata": {},
   "outputs": [
    {
     "name": "stdout",
     "output_type": "stream",
     "text": [
      "New best: 14 - {'A': 0, 'B': 0, 'C': 0, 'D': 0, 'E': 0}\n",
      "New best: 10 - {'A': 0, 'B': 0, 'C': 0, 'D': 0, 'E': 1}\n",
      "New best: 8 - {'A': 0, 'B': 0, 'C': 0, 'D': 1, 'E': 1}\n",
      "New best: 7 - {'A': 0, 'B': 0, 'C': 0, 'D': 1, 'E': 2}\n",
      "New best: 6 - {'A': 0, 'B': 0, 'C': 0, 'D': 6, 'E': 1}\n",
      "New best: 5 - {'A': 0, 'B': 0, 'C': 1, 'D': 2, 'E': 3}\n",
      "New best: 4 - {'A': 0, 'B': 0, 'C': 1, 'D': 6, 'E': 2}\n",
      "New best: 3 - {'A': 0, 'B': 1, 'C': 2, 'D': 5, 'E': 3}\n",
      "New best: 2 - {'A': 2, 'B': 8, 'C': 4, 'D': 7, 'E': 9}\n",
      "New best: 1 - {'A': 6, 'B': 4, 'C': 0, 'D': 2, 'E': 1}\n",
      "Best found: 1 - {'A': 6, 'B': 4, 'C': 0, 'D': 2, 'E': 1}\n",
      "New best: 6 - {'France': 'blue', 'Germany': 'blue', 'Loux': 'blue', 'Belgium': 'blue', 'Netherlands': 'red'}\n",
      "New best: 4 - {'France': 'blue', 'Germany': 'blue', 'Loux': 'blue', 'Belgium': 'red', 'Netherlands': 'blue'}\n",
      "New best: 3 - {'France': 'blue', 'Germany': 'blue', 'Loux': 'blue', 'Belgium': 'red', 'Netherlands': 'yellow'}\n",
      "New best: 2 - {'France': 'blue', 'Germany': 'blue', 'Loux': 'red', 'Belgium': 'red', 'Netherlands': 'yellow'}\n",
      "New best: 1 - {'France': 'blue', 'Germany': 'blue', 'Loux': 'red', 'Belgium': 'yellow', 'Netherlands': 'red'}\n",
      "Best found: 1 - {'France': 'blue', 'Germany': 'blue', 'Loux': 'red', 'Belgium': 'yellow', 'Netherlands': 'red'}\n"
     ]
    }
   ],
   "source": [
    "def PCSP(vars, domains, constraints, acceptable_cost, solution, cost):\n",
    "    global best_solution\n",
    "    global best_cost\n",
    "    \n",
    "    if not vars:\n",
    "        print(f\"New best: {cost} - {solution}\")\n",
    "        if cost < best_cost:\n",
    "            best_cost = cost\n",
    "            best_solution = solution.copy()\n",
    "        return cost <= acceptable_cost\n",
    "\n",
    "    if not domains[vars[0]]:\n",
    "        return False\n",
    "\n",
    "    if cost >= best_cost:\n",
    "        return False\n",
    "\n",
    "    var = vars[0]\n",
    "    remaining_vars = vars[1:]\n",
    "\n",
    "    for value in domains[var]:\n",
    "        new_solution = solution.copy()\n",
    "        new_solution[var] = value\n",
    "\n",
    "        new_cost = 0\n",
    "        for constraint in constraints:\n",
    "            vars_in_constraint, condition = constraint\n",
    "            values = [new_solution.get(v) for v in vars_in_constraint]\n",
    "            if None not in values: \n",
    "                if not condition(*values):\n",
    "                    new_cost += 1\n",
    "\n",
    "        if new_cost < best_cost:\n",
    "            if PCSP(remaining_vars, deepcopy(domains), constraints, acceptable_cost, new_solution, new_cost):\n",
    "                return True\n",
    "\n",
    "    return False\n",
    "\n",
    "def run_pcsp(problem, acceptable_cost):\n",
    "    global best_solution\n",
    "    global best_cost\n",
    "\n",
    "    [vars, domains, constraints] = [problem[e] for e in [\"Vars\", \"Domains\", \"Constraints\"]]\n",
    "\n",
    "    best_solution = {}\n",
    "    best_cost = len(constraints)\n",
    "\n",
    "    if PCSP(vars, deepcopy(domains), constraints, acceptable_cost, {}, 0):\n",
    "        print(f\"Best found: {best_cost} - {best_solution}\")\n",
    "    else:\n",
    "        print(f\"Acceptable solution not found; Best found: {best_cost} - {best_solution}\")\n",
    "\n",
    "        \n",
    "run_pcsp(MathProblem, 1)\n",
    "run_pcsp(ColoringProblem, 1)"
   ]
  },
  {
   "cell_type": "markdown",
   "metadata": {},
   "source": [
    "Expected output for numbers:\n",
    "\n",
    "```\n",
    "New best: 14 - {'A': 0, 'B': 0, 'C': 0, 'D': 0, 'E': 0}\n",
    "New best: 10 - {'A': 0, 'B': 0, 'C': 0, 'D': 0, 'E': 1}\n",
    "New best: 8 - {'A': 0, 'B': 0, 'C': 0, 'D': 1, 'E': 1}\n",
    "New best: 7 - {'A': 0, 'B': 0, 'C': 0, 'D': 1, 'E': 2}\n",
    "New best: 6 - {'A': 0, 'B': 0, 'C': 0, 'D': 6, 'E': 1}\n",
    "New best: 5 - {'A': 0, 'B': 0, 'C': 1, 'D': 2, 'E': 3}\n",
    "New best: 4 - {'A': 0, 'B': 0, 'C': 1, 'D': 6, 'E': 2}\n",
    "New best: 3 - {'A': 0, 'B': 1, 'C': 2, 'D': 5, 'E': 3}\n",
    "New best: 2 - {'A': 2, 'B': 8, 'C': 4, 'D': 7, 'E': 9}\n",
    "New best: 1 - {'A': 6, 'B': 4, 'C': 0, 'D': 2, 'E': 1}\n",
    "Best found: 1 - {'A': 6, 'B': 4, 'C': 0, 'D': 2, 'E': 1}\n",
    "```\n",
    "\n",
    "Expected output for country colors:\n",
    "\n",
    "```\n",
    "New best:  8  -  {'Loux': 'blue', 'Belgium': 'blue', 'Netherlands': 'blue', 'Germany': 'blue', 'France': 'blue'}\n",
    "New best:  6  -  {'Loux': 'blue', 'Belgium': 'blue', 'Netherlands': 'red', 'Germany': 'blue', 'France': 'blue'}\n",
    "New best:  4  -  {'Loux': 'blue', 'Belgium': 'red', 'Netherlands': 'blue', 'Germany': 'blue', 'France': 'blue'}\n",
    "New best:  3  -  {'Loux': 'blue', 'Belgium': 'red', 'Netherlands': 'yellow', 'Germany': 'blue', 'France': 'blue'}\n",
    "New best:  2  -  {'Loux': 'red', 'Belgium': 'red', 'Netherlands': 'yellow', 'Germany': 'blue', 'France': 'blue'}\n",
    "New best:  1  -  {'Loux': 'red', 'Belgium': 'yellow', 'Netherlands': 'red', 'Germany': 'blue', 'France': 'blue'}\n",
    "Best found: 1  -  {'Loux': 'red', 'Belgium': 'yellow', 'Netherlands': 'red', 'Germany': 'blue', 'France': 'blue'}\n",
    "```"
   ]
  }
 ],
 "metadata": {
  "kernelspec": {
   "display_name": "Python 3",
   "language": "python",
   "name": "python3"
  },
  "language_info": {
   "codemirror_mode": {
    "name": "ipython",
    "version": 3
   },
   "file_extension": ".py",
   "mimetype": "text/x-python",
   "name": "python",
   "nbconvert_exporter": "python",
   "pygments_lexer": "ipython3",
   "version": "3.11.9"
  }
 },
 "nbformat": 4,
 "nbformat_minor": 4
}
