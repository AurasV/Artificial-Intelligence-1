{
 "cells": [
  {
   "cell_type": "markdown",
   "metadata": {
    "id": "RRDk1pAZuKRs"
   },
   "source": [
    "## _Supervised Learning:   Random Forest Classifier, Linear Classifier_"
   ]
  },
  {
   "cell_type": "code",
   "execution_count": 1,
   "metadata": {
    "id": "Vg8LEAKOuKR4"
   },
   "outputs": [],
   "source": [
    "import pandas as pd\n",
    "import numpy as np\n",
    "from sklearn.linear_model import LogisticRegression\n",
    "import warnings\n",
    "from pandas.errors import SettingWithCopyWarning\n",
    "warnings.simplefilter(action=\"ignore\", category=SettingWithCopyWarning)"
   ]
  },
  {
   "cell_type": "code",
   "execution_count": 2,
   "metadata": {
    "id": "vUr4HX_luKR6"
   },
   "outputs": [],
   "source": [
    "# Read data\n",
    "\n",
    "root_path = 'C:\\\\Uni\\\\Year 3\\\\Semester 1\\\\Artificial Intelligence 1\\\\Lab 08\\\\'"
   ]
  },
  {
   "cell_type": "code",
   "execution_count": 3,
   "metadata": {
    "id": "ONjxm1p9uKR7"
   },
   "outputs": [],
   "source": [
    "df = pd.read_csv(root_path + 'credit_approval.csv')"
   ]
  },
  {
   "cell_type": "code",
   "execution_count": 4,
   "metadata": {
    "id": "jpjOQZnMuKR7",
    "outputId": "0fe64cac-53a5-4e76-a984-dea98ac308c5"
   },
   "outputs": [
    {
     "data": {
      "text/html": [
       "<div>\n",
       "<style scoped>\n",
       "    .dataframe tbody tr th:only-of-type {\n",
       "        vertical-align: middle;\n",
       "    }\n",
       "\n",
       "    .dataframe tbody tr th {\n",
       "        vertical-align: top;\n",
       "    }\n",
       "\n",
       "    .dataframe thead th {\n",
       "        text-align: right;\n",
       "    }\n",
       "</style>\n",
       "<table border=\"1\" class=\"dataframe\">\n",
       "  <thead>\n",
       "    <tr style=\"text-align: right;\">\n",
       "      <th></th>\n",
       "      <th>Unnamed: 0</th>\n",
       "      <th>1</th>\n",
       "      <th>2</th>\n",
       "      <th>3</th>\n",
       "      <th>4</th>\n",
       "      <th>5</th>\n",
       "      <th>6</th>\n",
       "      <th>7</th>\n",
       "      <th>8</th>\n",
       "      <th>9</th>\n",
       "      <th>10</th>\n",
       "      <th>11</th>\n",
       "      <th>12</th>\n",
       "      <th>13</th>\n",
       "      <th>14</th>\n",
       "      <th>15</th>\n",
       "    </tr>\n",
       "  </thead>\n",
       "  <tbody>\n",
       "    <tr>\n",
       "      <th>0</th>\n",
       "      <td>0</td>\n",
       "      <td>1</td>\n",
       "      <td>22.08</td>\n",
       "      <td>11.46</td>\n",
       "      <td>2</td>\n",
       "      <td>4</td>\n",
       "      <td>4</td>\n",
       "      <td>1.585</td>\n",
       "      <td>0</td>\n",
       "      <td>0</td>\n",
       "      <td>0</td>\n",
       "      <td>1</td>\n",
       "      <td>2</td>\n",
       "      <td>100</td>\n",
       "      <td>1213</td>\n",
       "      <td>0</td>\n",
       "    </tr>\n",
       "    <tr>\n",
       "      <th>1</th>\n",
       "      <td>1</td>\n",
       "      <td>0</td>\n",
       "      <td>22.67</td>\n",
       "      <td>7.00</td>\n",
       "      <td>2</td>\n",
       "      <td>8</td>\n",
       "      <td>4</td>\n",
       "      <td>0.165</td>\n",
       "      <td>0</td>\n",
       "      <td>0</td>\n",
       "      <td>0</td>\n",
       "      <td>0</td>\n",
       "      <td>2</td>\n",
       "      <td>160</td>\n",
       "      <td>1</td>\n",
       "      <td>0</td>\n",
       "    </tr>\n",
       "    <tr>\n",
       "      <th>2</th>\n",
       "      <td>2</td>\n",
       "      <td>0</td>\n",
       "      <td>29.58</td>\n",
       "      <td>1.75</td>\n",
       "      <td>1</td>\n",
       "      <td>4</td>\n",
       "      <td>4</td>\n",
       "      <td>1.250</td>\n",
       "      <td>0</td>\n",
       "      <td>0</td>\n",
       "      <td>0</td>\n",
       "      <td>1</td>\n",
       "      <td>2</td>\n",
       "      <td>280</td>\n",
       "      <td>1</td>\n",
       "      <td>0</td>\n",
       "    </tr>\n",
       "    <tr>\n",
       "      <th>3</th>\n",
       "      <td>3</td>\n",
       "      <td>0</td>\n",
       "      <td>21.67</td>\n",
       "      <td>11.50</td>\n",
       "      <td>1</td>\n",
       "      <td>5</td>\n",
       "      <td>3</td>\n",
       "      <td>0.000</td>\n",
       "      <td>1</td>\n",
       "      <td>1</td>\n",
       "      <td>11</td>\n",
       "      <td>1</td>\n",
       "      <td>2</td>\n",
       "      <td>0</td>\n",
       "      <td>1</td>\n",
       "      <td>1</td>\n",
       "    </tr>\n",
       "    <tr>\n",
       "      <th>4</th>\n",
       "      <td>4</td>\n",
       "      <td>1</td>\n",
       "      <td>20.17</td>\n",
       "      <td>8.17</td>\n",
       "      <td>2</td>\n",
       "      <td>6</td>\n",
       "      <td>4</td>\n",
       "      <td>1.960</td>\n",
       "      <td>1</td>\n",
       "      <td>1</td>\n",
       "      <td>14</td>\n",
       "      <td>0</td>\n",
       "      <td>2</td>\n",
       "      <td>60</td>\n",
       "      <td>159</td>\n",
       "      <td>1</td>\n",
       "    </tr>\n",
       "  </tbody>\n",
       "</table>\n",
       "</div>"
      ],
      "text/plain": [
       "   Unnamed: 0  1      2      3  4  5  6      7  8  9  10  11  12   13    14  \\\n",
       "0           0  1  22.08  11.46  2  4  4  1.585  0  0   0   1   2  100  1213   \n",
       "1           1  0  22.67   7.00  2  8  4  0.165  0  0   0   0   2  160     1   \n",
       "2           2  0  29.58   1.75  1  4  4  1.250  0  0   0   1   2  280     1   \n",
       "3           3  0  21.67  11.50  1  5  3  0.000  1  1  11   1   2    0     1   \n",
       "4           4  1  20.17   8.17  2  6  4  1.960  1  1  14   0   2   60   159   \n",
       "\n",
       "   15  \n",
       "0   0  \n",
       "1   0  \n",
       "2   0  \n",
       "3   1  \n",
       "4   1  "
      ]
     },
     "execution_count": 4,
     "metadata": {},
     "output_type": "execute_result"
    }
   ],
   "source": [
    "df.head()"
   ]
  },
  {
   "cell_type": "code",
   "execution_count": 5,
   "metadata": {
    "id": "a_vTom12uKR9",
    "outputId": "b4bb2cac-098f-461d-f428-7865aba061ea"
   },
   "outputs": [
    {
     "name": "stdout",
     "output_type": "stream",
     "text": [
      "<class 'pandas.core.frame.DataFrame'>\n",
      "RangeIndex: 690 entries, 0 to 689\n",
      "Data columns (total 16 columns):\n",
      " #   Column      Non-Null Count  Dtype  \n",
      "---  ------      --------------  -----  \n",
      " 0   Unnamed: 0  690 non-null    int64  \n",
      " 1   1           690 non-null    int64  \n",
      " 2   2           690 non-null    float64\n",
      " 3   3           690 non-null    float64\n",
      " 4   4           690 non-null    int64  \n",
      " 5   5           690 non-null    int64  \n",
      " 6   6           690 non-null    int64  \n",
      " 7   7           690 non-null    float64\n",
      " 8   8           690 non-null    int64  \n",
      " 9   9           690 non-null    int64  \n",
      " 10  10          690 non-null    int64  \n",
      " 11  11          690 non-null    int64  \n",
      " 12  12          690 non-null    int64  \n",
      " 13  13          690 non-null    int64  \n",
      " 14  14          690 non-null    int64  \n",
      " 15  15          690 non-null    int64  \n",
      "dtypes: float64(3), int64(13)\n",
      "memory usage: 86.4 KB\n"
     ]
    }
   ],
   "source": [
    "df.info()"
   ]
  },
  {
   "cell_type": "code",
   "execution_count": 6,
   "metadata": {
    "id": "9SnZFIlcuKR-",
    "outputId": "41208a11-267d-43d8-c8b7-501dfd9976f3"
   },
   "outputs": [
    {
     "data": {
      "text/plain": [
       "Index(['Unnamed: 0', '1', '2', '3', '4', '5', '6', '7', '8', '9', '10', '11',\n",
       "       '12', '13', '14', '15'],\n",
       "      dtype='object')"
      ]
     },
     "execution_count": 6,
     "metadata": {},
     "output_type": "execute_result"
    }
   ],
   "source": [
    "df.columns"
   ]
  },
  {
   "cell_type": "markdown",
   "metadata": {
    "id": "qr3MCmpzuKR_"
   },
   "source": [
    "### Exploring Data"
   ]
  },
  {
   "cell_type": "code",
   "execution_count": 7,
   "metadata": {
    "id": "rhEEtFkbuKR_"
   },
   "outputs": [],
   "source": [
    "import matplotlib.pyplot as plt"
   ]
  },
  {
   "cell_type": "code",
   "execution_count": 8,
   "metadata": {
    "id": "PKzIVKZguKR_",
    "outputId": "d886e3d4-3d5a-41d2-e22d-bc3726741a34"
   },
   "outputs": [
    {
     "data": {
      "text/plain": [
       "<matplotlib.collections.PathCollection at 0x1aeba2aa180>"
      ]
     },
     "execution_count": 8,
     "metadata": {},
     "output_type": "execute_result"
    },
    {
     "data": {
      "image/png": "[encoded data removed]",
      "text/plain": [
       "<Figure size 640x480 with 1 Axes>"
      ]
     },
     "metadata": {},
     "output_type": "display_data"
    }
   ],
   "source": [
    "# Categorical attributes\n",
    "\n",
    "plt.scatter(range(len(df)), df['1'])"
   ]
  },
  {
   "cell_type": "code",
   "execution_count": 9,
   "metadata": {
    "id": "Vr4o5d6XuKSA",
    "outputId": "3b235e3e-9df8-4fca-de48-b4f7e4bf8aab"
   },
   "outputs": [
    {
     "data": {
      "text/plain": [
       "<matplotlib.collections.PathCollection at 0x1aeba487d40>"
      ]
     },
     "execution_count": 9,
     "metadata": {},
     "output_type": "execute_result"
    },
    {
     "data": {
      "image/png": "[encoded data removed]",
      "text/plain": [
       "<Figure size 640x480 with 1 Axes>"
      ]
     },
     "metadata": {},
     "output_type": "display_data"
    }
   ],
   "source": [
    "# Numerical attributes\n",
    "\n",
    "plt.scatter(range(len(df)), df['2'])"
   ]
  },
  {
   "cell_type": "markdown",
   "metadata": {
    "id": "LSqVVR-uuKSB"
   },
   "source": [
    "### Preprocessing"
   ]
  },
  {
   "cell_type": "markdown",
   "metadata": {
    "id": "5BiMsrFUuKSB"
   },
   "source": [
    "### Task 0\n",
    "\n",
    "**a)** Rename the first 14th (relevant) columns as `col1`, `col2` ... `col14` and the last column as `target`. Your function should return both the data corresponding to the _X values_ and the _Y values_.\n",
    "\n",
    "_Hint:_ You can use the `drop` function explained [here](https://pandas.pydata.org/pandas-docs/stable/reference/api/pandas.DataFrame.drop.html) to eliminate the first column."
   ]
  },
  {
   "cell_type": "code",
   "execution_count": 10,
   "metadata": {
    "id": "L9mBseMBuKSC"
   },
   "outputs": [],
   "source": [
    "def clean_df(df):\n",
    "    del df[df.columns[0]]\n",
    "\n",
    "    col_names = []\n",
    "    length_minus_one = len(df.columns) - 1\n",
    "\n",
    "    for i in range(length_minus_one):\n",
    "        col_names.append(\"col\" + str(i + 1))\n",
    "    \n",
    "    col_names.append(\"target\")\n",
    "\n",
    "    df.columns = col_names\n",
    "    x = df.iloc[:, :length_minus_one]  \n",
    "    y = df['target'] \n",
    "    return x, y\n"
   ]
  },
  {
   "cell_type": "code",
   "execution_count": 11,
   "metadata": {
    "id": "o4NDx2gYuKSC"
   },
   "outputs": [],
   "source": [
    "dataX, dataY = clean_df(df)"
   ]
  },
  {
   "cell_type": "code",
   "execution_count": 12,
   "metadata": {
    "id": "ryH_vROXuKSD",
    "outputId": "c4d5f218-d264-44c6-93df-1b2a3b57960f"
   },
   "outputs": [
    {
     "data": {
      "text/html": [
       "<div>\n",
       "<style scoped>\n",
       "    .dataframe tbody tr th:only-of-type {\n",
       "        vertical-align: middle;\n",
       "    }\n",
       "\n",
       "    .dataframe tbody tr th {\n",
       "        vertical-align: top;\n",
       "    }\n",
       "\n",
       "    .dataframe thead th {\n",
       "        text-align: right;\n",
       "    }\n",
       "</style>\n",
       "<table border=\"1\" class=\"dataframe\">\n",
       "  <thead>\n",
       "    <tr style=\"text-align: right;\">\n",
       "      <th></th>\n",
       "      <th>col1</th>\n",
       "      <th>col2</th>\n",
       "      <th>col3</th>\n",
       "      <th>col4</th>\n",
       "      <th>col5</th>\n",
       "      <th>col6</th>\n",
       "      <th>col7</th>\n",
       "      <th>col8</th>\n",
       "      <th>col9</th>\n",
       "      <th>col10</th>\n",
       "      <th>col11</th>\n",
       "      <th>col12</th>\n",
       "      <th>col13</th>\n",
       "      <th>col14</th>\n",
       "    </tr>\n",
       "  </thead>\n",
       "  <tbody>\n",
       "    <tr>\n",
       "      <th>0</th>\n",
       "      <td>1</td>\n",
       "      <td>22.08</td>\n",
       "      <td>11.46</td>\n",
       "      <td>2</td>\n",
       "      <td>4</td>\n",
       "      <td>4</td>\n",
       "      <td>1.585</td>\n",
       "      <td>0</td>\n",
       "      <td>0</td>\n",
       "      <td>0</td>\n",
       "      <td>1</td>\n",
       "      <td>2</td>\n",
       "      <td>100</td>\n",
       "      <td>1213</td>\n",
       "    </tr>\n",
       "    <tr>\n",
       "      <th>1</th>\n",
       "      <td>0</td>\n",
       "      <td>22.67</td>\n",
       "      <td>7.00</td>\n",
       "      <td>2</td>\n",
       "      <td>8</td>\n",
       "      <td>4</td>\n",
       "      <td>0.165</td>\n",
       "      <td>0</td>\n",
       "      <td>0</td>\n",
       "      <td>0</td>\n",
       "      <td>0</td>\n",
       "      <td>2</td>\n",
       "      <td>160</td>\n",
       "      <td>1</td>\n",
       "    </tr>\n",
       "    <tr>\n",
       "      <th>2</th>\n",
       "      <td>0</td>\n",
       "      <td>29.58</td>\n",
       "      <td>1.75</td>\n",
       "      <td>1</td>\n",
       "      <td>4</td>\n",
       "      <td>4</td>\n",
       "      <td>1.250</td>\n",
       "      <td>0</td>\n",
       "      <td>0</td>\n",
       "      <td>0</td>\n",
       "      <td>1</td>\n",
       "      <td>2</td>\n",
       "      <td>280</td>\n",
       "      <td>1</td>\n",
       "    </tr>\n",
       "    <tr>\n",
       "      <th>3</th>\n",
       "      <td>0</td>\n",
       "      <td>21.67</td>\n",
       "      <td>11.50</td>\n",
       "      <td>1</td>\n",
       "      <td>5</td>\n",
       "      <td>3</td>\n",
       "      <td>0.000</td>\n",
       "      <td>1</td>\n",
       "      <td>1</td>\n",
       "      <td>11</td>\n",
       "      <td>1</td>\n",
       "      <td>2</td>\n",
       "      <td>0</td>\n",
       "      <td>1</td>\n",
       "    </tr>\n",
       "    <tr>\n",
       "      <th>4</th>\n",
       "      <td>1</td>\n",
       "      <td>20.17</td>\n",
       "      <td>8.17</td>\n",
       "      <td>2</td>\n",
       "      <td>6</td>\n",
       "      <td>4</td>\n",
       "      <td>1.960</td>\n",
       "      <td>1</td>\n",
       "      <td>1</td>\n",
       "      <td>14</td>\n",
       "      <td>0</td>\n",
       "      <td>2</td>\n",
       "      <td>60</td>\n",
       "      <td>159</td>\n",
       "    </tr>\n",
       "  </tbody>\n",
       "</table>\n",
       "</div>"
      ],
      "text/plain": [
       "   col1   col2   col3  col4  col5  col6   col7  col8  col9  col10  col11  \\\n",
       "0     1  22.08  11.46     2     4     4  1.585     0     0      0      1   \n",
       "1     0  22.67   7.00     2     8     4  0.165     0     0      0      0   \n",
       "2     0  29.58   1.75     1     4     4  1.250     0     0      0      1   \n",
       "3     0  21.67  11.50     1     5     3  0.000     1     1     11      1   \n",
       "4     1  20.17   8.17     2     6     4  1.960     1     1     14      0   \n",
       "\n",
       "   col12  col13  col14  \n",
       "0      2    100   1213  \n",
       "1      2    160      1  \n",
       "2      2    280      1  \n",
       "3      2      0      1  \n",
       "4      2     60    159  "
      ]
     },
     "execution_count": 12,
     "metadata": {},
     "output_type": "execute_result"
    }
   ],
   "source": [
    "# Verify result\n",
    "dataX.head()"
   ]
  },
  {
   "cell_type": "markdown",
   "metadata": {
    "id": "Ab1QlIMwuKSD"
   },
   "source": [
    "**b)** Which columns could be classified as categorical? Plot one column of your choice containing numerical values. Justify your choice (please use the `markdown` option provided in your notebook)."
   ]
  },
  {
   "cell_type": "code",
   "execution_count": 13,
   "metadata": {
    "id": "fHVXKRaPuKSD"
   },
   "outputs": [
    {
     "data": {
      "text/plain": [
       "<matplotlib.collections.PathCollection at 0x1aeba632f60>"
      ]
     },
     "execution_count": 13,
     "metadata": {},
     "output_type": "execute_result"
    },
    {
     "data": {
      "image/png": "[encoded data removed]",
      "text/plain": [
       "<Figure size 640x480 with 1 Axes>"
      ]
     },
     "metadata": {},
     "output_type": "display_data"
    }
   ],
   "source": [
    "# TO DO: \n",
    "plt.scatter(range(len(df)), df['col7'])"
   ]
  },
  {
   "cell_type": "markdown",
   "metadata": {},
   "source": [
    "Categorical columns = col1, col4, col6, col8, col9, col11, col12 (They have less than 10 unique values)\n",
    "\n",
    "Plotted col7 cause it has quite a few rows with different numbers and they look nice on scatter plot ¯\\\\_(ツ)_/¯"
   ]
  },
  {
   "cell_type": "code",
   "execution_count": 14,
   "metadata": {
    "id": "UnZlLDtSuKSE",
    "outputId": "574e3c69-a33e-4129-a90d-f4af91f9326c"
   },
   "outputs": [
    {
     "data": {
      "text/plain": [
       "0    0\n",
       "1    0\n",
       "2    0\n",
       "3    1\n",
       "4    1\n",
       "Name: target, dtype: int64"
      ]
     },
     "execution_count": 14,
     "metadata": {},
     "output_type": "execute_result"
    }
   ],
   "source": [
    "# Verify result\n",
    "dataY.head()"
   ]
  },
  {
   "cell_type": "markdown",
   "metadata": {
    "id": "GobV6xJkuKSE"
   },
   "source": [
    "**c)** Does the data stored in the `target` data frame have numerical attributes? Besides the graphical representation, how can the values of a column be classified as numerical or categorical?"
   ]
  },
  {
   "cell_type": "code",
   "execution_count": 15,
   "metadata": {
    "id": "SijUs2yduKSF"
   },
   "outputs": [
    {
     "data": {
      "text/html": [
       "<div>\n",
       "<style scoped>\n",
       "    .dataframe tbody tr th:only-of-type {\n",
       "        vertical-align: middle;\n",
       "    }\n",
       "\n",
       "    .dataframe tbody tr th {\n",
       "        vertical-align: top;\n",
       "    }\n",
       "\n",
       "    .dataframe thead th {\n",
       "        text-align: right;\n",
       "    }\n",
       "</style>\n",
       "<table border=\"1\" class=\"dataframe\">\n",
       "  <thead>\n",
       "    <tr style=\"text-align: right;\">\n",
       "      <th></th>\n",
       "      <th>col1</th>\n",
       "      <th>col2</th>\n",
       "      <th>col3</th>\n",
       "      <th>col4</th>\n",
       "      <th>col5</th>\n",
       "      <th>col6</th>\n",
       "      <th>col7</th>\n",
       "      <th>col8</th>\n",
       "      <th>col9</th>\n",
       "      <th>col10</th>\n",
       "      <th>col11</th>\n",
       "      <th>col12</th>\n",
       "      <th>col13</th>\n",
       "      <th>col14</th>\n",
       "      <th>target</th>\n",
       "    </tr>\n",
       "  </thead>\n",
       "  <tbody>\n",
       "    <tr>\n",
       "      <th>0</th>\n",
       "      <td>1</td>\n",
       "      <td>22.08</td>\n",
       "      <td>11.46</td>\n",
       "      <td>2</td>\n",
       "      <td>4</td>\n",
       "      <td>4</td>\n",
       "      <td>1.585</td>\n",
       "      <td>0</td>\n",
       "      <td>0</td>\n",
       "      <td>0</td>\n",
       "      <td>1</td>\n",
       "      <td>2</td>\n",
       "      <td>100</td>\n",
       "      <td>1213</td>\n",
       "      <td>0</td>\n",
       "    </tr>\n",
       "    <tr>\n",
       "      <th>1</th>\n",
       "      <td>0</td>\n",
       "      <td>22.67</td>\n",
       "      <td>7.00</td>\n",
       "      <td>2</td>\n",
       "      <td>8</td>\n",
       "      <td>4</td>\n",
       "      <td>0.165</td>\n",
       "      <td>0</td>\n",
       "      <td>0</td>\n",
       "      <td>0</td>\n",
       "      <td>0</td>\n",
       "      <td>2</td>\n",
       "      <td>160</td>\n",
       "      <td>1</td>\n",
       "      <td>0</td>\n",
       "    </tr>\n",
       "    <tr>\n",
       "      <th>2</th>\n",
       "      <td>0</td>\n",
       "      <td>29.58</td>\n",
       "      <td>1.75</td>\n",
       "      <td>1</td>\n",
       "      <td>4</td>\n",
       "      <td>4</td>\n",
       "      <td>1.250</td>\n",
       "      <td>0</td>\n",
       "      <td>0</td>\n",
       "      <td>0</td>\n",
       "      <td>1</td>\n",
       "      <td>2</td>\n",
       "      <td>280</td>\n",
       "      <td>1</td>\n",
       "      <td>0</td>\n",
       "    </tr>\n",
       "    <tr>\n",
       "      <th>3</th>\n",
       "      <td>0</td>\n",
       "      <td>21.67</td>\n",
       "      <td>11.50</td>\n",
       "      <td>1</td>\n",
       "      <td>5</td>\n",
       "      <td>3</td>\n",
       "      <td>0.000</td>\n",
       "      <td>1</td>\n",
       "      <td>1</td>\n",
       "      <td>11</td>\n",
       "      <td>1</td>\n",
       "      <td>2</td>\n",
       "      <td>0</td>\n",
       "      <td>1</td>\n",
       "      <td>1</td>\n",
       "    </tr>\n",
       "    <tr>\n",
       "      <th>4</th>\n",
       "      <td>1</td>\n",
       "      <td>20.17</td>\n",
       "      <td>8.17</td>\n",
       "      <td>2</td>\n",
       "      <td>6</td>\n",
       "      <td>4</td>\n",
       "      <td>1.960</td>\n",
       "      <td>1</td>\n",
       "      <td>1</td>\n",
       "      <td>14</td>\n",
       "      <td>0</td>\n",
       "      <td>2</td>\n",
       "      <td>60</td>\n",
       "      <td>159</td>\n",
       "      <td>1</td>\n",
       "    </tr>\n",
       "  </tbody>\n",
       "</table>\n",
       "</div>"
      ],
      "text/plain": [
       "   col1   col2   col3  col4  col5  col6   col7  col8  col9  col10  col11  \\\n",
       "0     1  22.08  11.46     2     4     4  1.585     0     0      0      1   \n",
       "1     0  22.67   7.00     2     8     4  0.165     0     0      0      0   \n",
       "2     0  29.58   1.75     1     4     4  1.250     0     0      0      1   \n",
       "3     0  21.67  11.50     1     5     3  0.000     1     1     11      1   \n",
       "4     1  20.17   8.17     2     6     4  1.960     1     1     14      0   \n",
       "\n",
       "   col12  col13  col14  target  \n",
       "0      2    100   1213       0  \n",
       "1      2    160      1       0  \n",
       "2      2    280      1       0  \n",
       "3      2      0      1       1  \n",
       "4      2     60    159       1  "
      ]
     },
     "execution_count": 15,
     "metadata": {},
     "output_type": "execute_result"
    }
   ],
   "source": [
    "# TO DO:\n",
    "# target doesn't have numerical attributes, it's a binary true/false column\n",
    "# we classify a column as numerical or categorical based\n",
    "# on how many unique numbers it has (usually > 10 for numerical)\n",
    "df.head()"
   ]
  },
  {
   "cell_type": "markdown",
   "metadata": {
    "id": "t9xX0frwuKSF"
   },
   "source": [
    "### Normalization"
   ]
  },
  {
   "cell_type": "markdown",
   "metadata": {
    "id": "pl3RXtBsuKSF"
   },
   "source": [
    "### Task 1\n",
    "\n",
    "The following formula computes a _Z score_ and measures how far a single raw data value is from the population mean.\n",
    "\n",
    "\\begin{equation*}\n",
    "z = \\frac{X - \\mu }{\\sigma }\n",
    "\\end{equation*}\n",
    "\n",
    "where:\n",
    "* **_X_** is a single raw data value\n",
    "* `mu` is the population mean\n",
    "* `sigma` is the population standard deviation\n",
    "\n",
    "The `compute_stats` function receives a `DataFrame object` for which builds a `stats DataFrame` where the mean and standard deviation are computed for each column of the input.\n",
    "\n",
    "The final result should have 3 columns:\n",
    "* the name of the column for which the mean and the standard deviation were computed,\n",
    "* the mean column computed for the values in the corresponding column,\n",
    "* the standard deviation computed for the values in the corresponding column.\n",
    "\n",
    "_Hints:_ \n",
    "1. You might want to use `df.loc` property [which can be found here.](https://pandas.pydata.org/pandas-docs/stable/reference/api/pandas.DataFrame.loc.html)\n",
    "\n",
    "2. Verify your data by using `notnull()` [function.](https://pandas.pydata.org/pandas-docs/stable/reference/api/pandas.DataFrame.notnull.html)\n",
    "\n",
    "You may use:\n",
    "`df.loc[df[column_name].notnull(), column_name]` to access all the elements of a column that are not null."
   ]
  },
  {
   "cell_type": "code",
   "execution_count": 16,
   "metadata": {
    "id": "2FiotVQ6uKSG"
   },
   "outputs": [],
   "source": [
    "def compute_stats(df):\n",
    "    stats = []\n",
    "\n",
    "    for col in df.columns:\n",
    "        # values that aren't null\n",
    "        valid_values = df.loc[df[col].notnull(), col]\n",
    "        \n",
    "        # compute mean and standard deviation\n",
    "        col_mean = valid_values.mean()\n",
    "        col_std = valid_values.std()\n",
    "        \n",
    "        # add them to the list\n",
    "        stats.append({\n",
    "            'column_name': col,\n",
    "            'mean': col_mean,\n",
    "            'std': col_std\n",
    "        })\n",
    "\n",
    "    stats = pd.DataFrame(stats)\n",
    "\n",
    "    return stats\n"
   ]
  },
  {
   "cell_type": "code",
   "execution_count": 17,
   "metadata": {
    "id": "NoTh8NmZuKSH"
   },
   "outputs": [],
   "source": [
    "stats_dataX = compute_stats(dataX)"
   ]
  },
  {
   "cell_type": "code",
   "execution_count": 18,
   "metadata": {
    "id": "XbY6dLyCuKSH",
    "outputId": "1b7b6ea5-7ca9-45f0-8b64-29f898e59b44"
   },
   "outputs": [
    {
     "data": {
      "text/html": [
       "<div>\n",
       "<style scoped>\n",
       "    .dataframe tbody tr th:only-of-type {\n",
       "        vertical-align: middle;\n",
       "    }\n",
       "\n",
       "    .dataframe tbody tr th {\n",
       "        vertical-align: top;\n",
       "    }\n",
       "\n",
       "    .dataframe thead th {\n",
       "        text-align: right;\n",
       "    }\n",
       "</style>\n",
       "<table border=\"1\" class=\"dataframe\">\n",
       "  <thead>\n",
       "    <tr style=\"text-align: right;\">\n",
       "      <th></th>\n",
       "      <th>column_name</th>\n",
       "      <th>mean</th>\n",
       "      <th>std</th>\n",
       "    </tr>\n",
       "  </thead>\n",
       "  <tbody>\n",
       "    <tr>\n",
       "      <th>0</th>\n",
       "      <td>col1</td>\n",
       "      <td>0.678261</td>\n",
       "      <td>0.467482</td>\n",
       "    </tr>\n",
       "    <tr>\n",
       "      <th>1</th>\n",
       "      <td>col2</td>\n",
       "      <td>31.568203</td>\n",
       "      <td>11.853273</td>\n",
       "    </tr>\n",
       "    <tr>\n",
       "      <th>2</th>\n",
       "      <td>col3</td>\n",
       "      <td>4.758725</td>\n",
       "      <td>4.978163</td>\n",
       "    </tr>\n",
       "    <tr>\n",
       "      <th>3</th>\n",
       "      <td>col4</td>\n",
       "      <td>1.766667</td>\n",
       "      <td>0.430063</td>\n",
       "    </tr>\n",
       "    <tr>\n",
       "      <th>4</th>\n",
       "      <td>col5</td>\n",
       "      <td>7.372464</td>\n",
       "      <td>3.683265</td>\n",
       "    </tr>\n",
       "    <tr>\n",
       "      <th>5</th>\n",
       "      <td>col6</td>\n",
       "      <td>4.692754</td>\n",
       "      <td>1.992316</td>\n",
       "    </tr>\n",
       "    <tr>\n",
       "      <th>6</th>\n",
       "      <td>col7</td>\n",
       "      <td>2.223406</td>\n",
       "      <td>3.346513</td>\n",
       "    </tr>\n",
       "    <tr>\n",
       "      <th>7</th>\n",
       "      <td>col8</td>\n",
       "      <td>0.523188</td>\n",
       "      <td>0.499824</td>\n",
       "    </tr>\n",
       "    <tr>\n",
       "      <th>8</th>\n",
       "      <td>col9</td>\n",
       "      <td>0.427536</td>\n",
       "      <td>0.495080</td>\n",
       "    </tr>\n",
       "    <tr>\n",
       "      <th>9</th>\n",
       "      <td>col10</td>\n",
       "      <td>2.400000</td>\n",
       "      <td>4.862940</td>\n",
       "    </tr>\n",
       "    <tr>\n",
       "      <th>10</th>\n",
       "      <td>col11</td>\n",
       "      <td>0.457971</td>\n",
       "      <td>0.498592</td>\n",
       "    </tr>\n",
       "    <tr>\n",
       "      <th>11</th>\n",
       "      <td>col12</td>\n",
       "      <td>1.928986</td>\n",
       "      <td>0.298813</td>\n",
       "    </tr>\n",
       "    <tr>\n",
       "      <th>12</th>\n",
       "      <td>col13</td>\n",
       "      <td>184.014493</td>\n",
       "      <td>172.159274</td>\n",
       "    </tr>\n",
       "    <tr>\n",
       "      <th>13</th>\n",
       "      <td>col14</td>\n",
       "      <td>1018.385507</td>\n",
       "      <td>5210.102598</td>\n",
       "    </tr>\n",
       "  </tbody>\n",
       "</table>\n",
       "</div>"
      ],
      "text/plain": [
       "   column_name         mean          std\n",
       "0         col1     0.678261     0.467482\n",
       "1         col2    31.568203    11.853273\n",
       "2         col3     4.758725     4.978163\n",
       "3         col4     1.766667     0.430063\n",
       "4         col5     7.372464     3.683265\n",
       "5         col6     4.692754     1.992316\n",
       "6         col7     2.223406     3.346513\n",
       "7         col8     0.523188     0.499824\n",
       "8         col9     0.427536     0.495080\n",
       "9        col10     2.400000     4.862940\n",
       "10       col11     0.457971     0.498592\n",
       "11       col12     1.928986     0.298813\n",
       "12       col13   184.014493   172.159274\n",
       "13       col14  1018.385507  5210.102598"
      ]
     },
     "execution_count": 18,
     "metadata": {},
     "output_type": "execute_result"
    }
   ],
   "source": [
    "# Expected Output:\n",
    "stats_dataX"
   ]
  },
  {
   "cell_type": "markdown",
   "metadata": {
    "id": "FU6v8vPruKSO"
   },
   "source": [
    "To finish this task, use the `stats DataFrame` computed before and compute the _Z score_ formula."
   ]
  },
  {
   "cell_type": "code",
   "execution_count": 19,
   "metadata": {
    "id": "U8y-SbtBuKSP"
   },
   "outputs": [],
   "source": [
    "def normalize(df, stats):\n",
    "    for col in df.columns:\n",
    "        # make them all float\n",
    "        df[col] = df[col].astype(float)\n",
    "        \n",
    "        # for each column get the mean and standard deviation\n",
    "        col_stats = stats.loc[stats['column_name'] == col]\n",
    "        col_mean = col_stats['mean'].values[0]\n",
    "        col_std = col_stats['std'].values[0]\n",
    "        \n",
    "        # compute z score (row data - mean) / deviation\n",
    "        df.loc[df[col].notnull(), col] = (\n",
    "            df.loc[df[col].notnull(), col] - col_mean\n",
    "        ) / col_std\n",
    "    \n",
    "    return df\n"
   ]
  },
  {
   "cell_type": "code",
   "execution_count": 20,
   "metadata": {
    "id": "y47Li0s7uKSP"
   },
   "outputs": [],
   "source": [
    "norm_dataX = normalize(dataX, stats_dataX)"
   ]
  },
  {
   "cell_type": "code",
   "execution_count": 21,
   "metadata": {
    "id": "IhA-lzRguKSQ",
    "outputId": "8a7357aa-1ecb-4949-cf00-40faa299f434"
   },
   "outputs": [
    {
     "data": {
      "text/html": [
       "<div>\n",
       "<style scoped>\n",
       "    .dataframe tbody tr th:only-of-type {\n",
       "        vertical-align: middle;\n",
       "    }\n",
       "\n",
       "    .dataframe tbody tr th {\n",
       "        vertical-align: top;\n",
       "    }\n",
       "\n",
       "    .dataframe thead th {\n",
       "        text-align: right;\n",
       "    }\n",
       "</style>\n",
       "<table border=\"1\" class=\"dataframe\">\n",
       "  <thead>\n",
       "    <tr style=\"text-align: right;\">\n",
       "      <th></th>\n",
       "      <th>col1</th>\n",
       "      <th>col2</th>\n",
       "      <th>col3</th>\n",
       "      <th>col4</th>\n",
       "      <th>col5</th>\n",
       "      <th>col6</th>\n",
       "      <th>col7</th>\n",
       "      <th>col8</th>\n",
       "      <th>col9</th>\n",
       "      <th>col10</th>\n",
       "      <th>col11</th>\n",
       "      <th>col12</th>\n",
       "      <th>col13</th>\n",
       "      <th>col14</th>\n",
       "    </tr>\n",
       "  </thead>\n",
       "  <tbody>\n",
       "    <tr>\n",
       "      <th>0</th>\n",
       "      <td>0.688238</td>\n",
       "      <td>-0.800471</td>\n",
       "      <td>1.346134</td>\n",
       "      <td>0.542556</td>\n",
       "      <td>-0.915618</td>\n",
       "      <td>-0.347713</td>\n",
       "      <td>-0.190767</td>\n",
       "      <td>-1.046745</td>\n",
       "      <td>-0.863570</td>\n",
       "      <td>-0.493529</td>\n",
       "      <td>1.087120</td>\n",
       "      <td>0.237655</td>\n",
       "      <td>-0.488004</td>\n",
       "      <td>0.037353</td>\n",
       "    </tr>\n",
       "    <tr>\n",
       "      <th>1</th>\n",
       "      <td>-1.450880</td>\n",
       "      <td>-0.750696</td>\n",
       "      <td>0.450221</td>\n",
       "      <td>0.542556</td>\n",
       "      <td>0.170375</td>\n",
       "      <td>-0.347713</td>\n",
       "      <td>-0.615090</td>\n",
       "      <td>-1.046745</td>\n",
       "      <td>-0.863570</td>\n",
       "      <td>-0.493529</td>\n",
       "      <td>-0.918529</td>\n",
       "      <td>0.237655</td>\n",
       "      <td>-0.139490</td>\n",
       "      <td>-0.195272</td>\n",
       "    </tr>\n",
       "    <tr>\n",
       "      <th>2</th>\n",
       "      <td>-1.450880</td>\n",
       "      <td>-0.167735</td>\n",
       "      <td>-0.604384</td>\n",
       "      <td>-1.782685</td>\n",
       "      <td>-0.915618</td>\n",
       "      <td>-0.347713</td>\n",
       "      <td>-0.290872</td>\n",
       "      <td>-1.046745</td>\n",
       "      <td>-0.863570</td>\n",
       "      <td>-0.493529</td>\n",
       "      <td>1.087120</td>\n",
       "      <td>0.237655</td>\n",
       "      <td>0.557539</td>\n",
       "      <td>-0.195272</td>\n",
       "    </tr>\n",
       "    <tr>\n",
       "      <th>3</th>\n",
       "      <td>-1.450880</td>\n",
       "      <td>-0.835061</td>\n",
       "      <td>1.354169</td>\n",
       "      <td>-1.782685</td>\n",
       "      <td>-0.644120</td>\n",
       "      <td>-0.849641</td>\n",
       "      <td>-0.664395</td>\n",
       "      <td>0.953958</td>\n",
       "      <td>1.156306</td>\n",
       "      <td>1.768477</td>\n",
       "      <td>1.087120</td>\n",
       "      <td>0.237655</td>\n",
       "      <td>-1.068862</td>\n",
       "      <td>-0.195272</td>\n",
       "    </tr>\n",
       "    <tr>\n",
       "      <th>4</th>\n",
       "      <td>0.688238</td>\n",
       "      <td>-0.961608</td>\n",
       "      <td>0.685248</td>\n",
       "      <td>0.542556</td>\n",
       "      <td>-0.372622</td>\n",
       "      <td>-0.347713</td>\n",
       "      <td>-0.078711</td>\n",
       "      <td>0.953958</td>\n",
       "      <td>1.156306</td>\n",
       "      <td>2.385388</td>\n",
       "      <td>-0.918529</td>\n",
       "      <td>0.237655</td>\n",
       "      <td>-0.720347</td>\n",
       "      <td>-0.164946</td>\n",
       "    </tr>\n",
       "  </tbody>\n",
       "</table>\n",
       "</div>"
      ],
      "text/plain": [
       "       col1      col2      col3      col4      col5      col6      col7  \\\n",
       "0  0.688238 -0.800471  1.346134  0.542556 -0.915618 -0.347713 -0.190767   \n",
       "1 -1.450880 -0.750696  0.450221  0.542556  0.170375 -0.347713 -0.615090   \n",
       "2 -1.450880 -0.167735 -0.604384 -1.782685 -0.915618 -0.347713 -0.290872   \n",
       "3 -1.450880 -0.835061  1.354169 -1.782685 -0.644120 -0.849641 -0.664395   \n",
       "4  0.688238 -0.961608  0.685248  0.542556 -0.372622 -0.347713 -0.078711   \n",
       "\n",
       "       col8      col9     col10     col11     col12     col13     col14  \n",
       "0 -1.046745 -0.863570 -0.493529  1.087120  0.237655 -0.488004  0.037353  \n",
       "1 -1.046745 -0.863570 -0.493529 -0.918529  0.237655 -0.139490 -0.195272  \n",
       "2 -1.046745 -0.863570 -0.493529  1.087120  0.237655  0.557539 -0.195272  \n",
       "3  0.953958  1.156306  1.768477  1.087120  0.237655 -1.068862 -0.195272  \n",
       "4  0.953958  1.156306  2.385388 -0.918529  0.237655 -0.720347 -0.164946  "
      ]
     },
     "execution_count": 21,
     "metadata": {},
     "output_type": "execute_result"
    }
   ],
   "source": [
    "# Expected Output:\n",
    "norm_dataX.head()"
   ]
  },
  {
   "cell_type": "markdown",
   "metadata": {
    "id": "-W2R-gNvuKSQ"
   },
   "source": [
    "### Task 2\n",
    " \n",
    "Fill in the missing elements in:\n",
    " \n",
    "**a)** the `get_score` function below:"
   ]
  },
  {
   "cell_type": "code",
   "execution_count": 22,
   "metadata": {
    "id": "jUZTxT3s52Nq"
   },
   "outputs": [],
   "source": [
    "from sklearn.metrics import roc_auc_score"
   ]
  },
  {
   "cell_type": "code",
   "execution_count": 23,
   "metadata": {
    "id": "MqxaWx1TuKSR"
   },
   "outputs": [],
   "source": [
    "def get_score(model, X_train, X_test, y_train, y_test):\n",
    "    model.fit(X_train, y_train.values.ravel())\n",
    "    \n",
    "    # probabilities of each class, every resource online said to use predict_profa instead of normal predict\n",
    "    # something about profa having float values instead of binary 0's and 1's giving better accuracy \n",
    "    \n",
    "    train_probs = model.predict_proba(X_train)[:, 1]\n",
    "    test_probs = model.predict_proba(X_test)[:, 1]\n",
    "    \n",
    "    train_roc_scores = roc_auc_score(y_train, train_probs)\n",
    "    test_roc_scores = roc_auc_score(y_test, test_probs)\n",
    "    \n",
    "    return train_roc_scores, test_roc_scores\n"
   ]
  },
  {
   "cell_type": "code",
   "execution_count": 24,
   "metadata": {
    "id": "YfQQRTcduKSR"
   },
   "outputs": [],
   "source": [
    "# Perform k-fold manually\n",
    "import random\n",
    " \n",
    "# only 5 folds cuz that's what it is asked for \n",
    "k = 5\n",
    "fold_size = len(dataX) // k\n",
    "\n",
    "# randomly shuffle\n",
    "dataX_i = list(dataX.index.values)\n",
    "random.shuffle(dataX_i)\n"
   ]
  },
  {
   "cell_type": "markdown",
   "metadata": {
    "id": "WV8QKSl2uKSR"
   },
   "source": [
    "**b)** Store the rearranged indices in 5 different lists, congregated in the list of lists `xi`."
   ]
  },
  {
   "cell_type": "code",
   "execution_count": 25,
   "metadata": {
    "id": "Bgu4SFYruKSS"
   },
   "outputs": [],
   "source": [
    "# xi = TO DO\n",
    "\n",
    "# splitting into 5 folds (k is 5)\n",
    "xi = [dataX_i[i * fold_size: (i + 1) * fold_size] for i in range(k)]"
   ]
  },
  {
   "cell_type": "code",
   "execution_count": 26,
   "metadata": {
    "id": "ZS9bgC52uKSS",
    "outputId": "b3ea6ed9-7788-48cb-87d2-4adff003a939"
   },
   "outputs": [
    {
     "name": "stdout",
     "output_type": "stream",
     "text": [
      "[[583, 511, 334, 425, 252, 81, 411, 203, 14, 592, 459, 365, 254, 242, 50, 419, 516, 241, 641, 469, 300, 356, 390, 255, 90, 53, 372, 575, 572, 570, 54, 151, 19, 6, 458, 121, 386, 276, 613, 112, 63, 475, 154, 76, 342, 222, 33, 443, 674, 313, 447, 105, 197, 140, 546, 47, 57, 12, 3, 183, 224, 557, 169, 85, 362, 507, 204, 336, 243, 78, 527, 127, 437, 268, 109, 200, 349, 317, 226, 84, 270, 647, 258, 249, 460, 306, 456, 383, 378, 235, 488, 471, 263, 352, 484, 257, 463, 75, 202, 384, 614, 181, 525, 405, 449, 424, 487, 314, 62, 102, 651, 649, 457, 508, 500, 95, 41, 587, 168, 561, 286, 265, 205, 462, 468, 477, 348, 381, 529, 576, 264, 536, 8, 526, 466, 119, 534, 250], [131, 669, 632, 124, 528, 305, 146, 122, 668, 144, 653, 610, 605, 83, 157, 360, 440, 420, 582, 21, 167, 402, 364, 684, 423, 495, 664, 229, 631, 478, 35, 323, 660, 677, 225, 152, 422, 110, 537, 428, 358, 10, 414, 517, 186, 628, 125, 353, 278, 93, 565, 96, 560, 290, 137, 571, 658, 579, 552, 318, 291, 465, 598, 366, 171, 485, 597, 280, 354, 659, 288, 223, 15, 398, 39, 174, 134, 568, 550, 163, 129, 296, 596, 554, 555, 91, 217, 679, 44, 59, 67, 382, 326, 676, 404, 611, 392, 379, 11, 578, 530, 621, 178, 73, 185, 584, 27, 652, 374, 506, 192, 315, 173, 4, 94, 535, 1, 502, 52, 58, 539, 427, 483, 512, 108, 302, 266, 209, 311, 409, 446, 395, 99, 574, 643, 180, 415, 262], [491, 412, 430, 198, 274, 341, 646, 269, 117, 299, 285, 153, 211, 346, 238, 71, 244, 48, 566, 441, 281, 391, 133, 657, 201, 513, 435, 159, 591, 321, 522, 461, 606, 375, 634, 149, 196, 376, 284, 304, 681, 176, 482, 277, 523, 645, 161, 585, 519, 394, 543, 455, 20, 88, 221, 642, 107, 520, 355, 51, 208, 25, 421, 160, 123, 292, 401, 190, 521, 467, 182, 101, 448, 615, 551, 367, 279, 399, 445, 80, 43, 689, 343, 111, 675, 434, 236, 301, 26, 637, 489, 259, 49, 474, 253, 603, 70, 166, 46, 531, 509, 672, 385, 31, 97, 486, 493, 195, 544, 624, 65, 30, 373, 24, 490, 118, 297, 350, 294, 359, 567, 633, 450, 271, 293, 638, 273, 303, 369, 98, 234, 451, 361, 410, 212, 227, 542, 370], [233, 538, 69, 564, 586, 164, 685, 480, 433, 141, 92, 18, 667, 245, 104, 38, 671, 470, 191, 87, 627, 126, 549, 553, 589, 479, 136, 498, 128, 403, 72, 363, 34, 429, 42, 612, 246, 256, 505, 617, 116, 177, 330, 79, 623, 199, 494, 665, 135, 332, 619, 400, 68, 481, 338, 635, 89, 16, 454, 686, 218, 175, 307, 648, 13, 0, 380, 636, 620, 339, 9, 40, 282, 267, 325, 61, 220, 432, 165, 189, 545, 559, 316, 666, 86, 335, 155, 573, 193, 368, 670, 593, 371, 100, 66, 682, 416, 231, 426, 216, 147, 387, 162, 406, 497, 417, 210, 324, 230, 308, 214, 622, 351, 344, 170, 138, 184, 688, 322, 608, 630, 515, 74, 309, 609, 687, 239, 148, 213, 283, 248, 541, 602, 240, 7, 219, 499, 275], [504, 558, 654, 594, 569, 142, 37, 464, 260, 298, 444, 452, 145, 2, 312, 492, 5, 45, 556, 442, 150, 644, 473, 431, 510, 251, 439, 187, 156, 64, 588, 683, 388, 650, 618, 295, 563, 194, 215, 397, 655, 407, 188, 524, 548, 287, 562, 272, 438, 345, 496, 114, 132, 547, 77, 115, 577, 501, 56, 329, 23, 357, 333, 143, 22, 581, 17, 595, 514, 599, 503, 604, 340, 639, 625, 228, 60, 640, 662, 320, 533, 678, 661, 331, 663, 172, 518, 328, 626, 82, 532, 207, 389, 377, 476, 113, 600, 232, 179, 310, 139, 393, 289, 656, 680, 55, 261, 247, 327, 120, 601, 408, 347, 590, 629, 106, 580, 319, 29, 36, 453, 540, 103, 28, 337, 607, 436, 32, 413, 396, 237, 418, 206, 673, 130, 472, 616, 158]]\n"
     ]
    }
   ],
   "source": [
    "print(xi)"
   ]
  },
  {
   "cell_type": "code",
   "execution_count": 27,
   "metadata": {
    "id": "ZlJb5fzxuKST"
   },
   "outputs": [],
   "source": [
    "train_scores_lr = []\n",
    "test_scores_lr = []"
   ]
  },
  {
   "cell_type": "markdown",
   "metadata": {
    "id": "zoNUR6m26VI6"
   },
   "source": [
    "### Cross Validation\n",
    "\n",
    "Cross-Validation is a statistical method of evaluating and comparing learning algorithms by dividing data into two segments: one used to learn or train a model and the other used to validate the model. In typical cross-validation, the training and validation sets must cross-over in successive rounds such that each data point has a chance of being validated against. [Source](https://doi.org/10.1007/978-0-387-39940-9_565)\n",
    "\n",
    "One example of _Cross Validation_ techniques that can be useful is represented by k-fold cross validation. In our exercise, let us set the value of `k=5` such that we test different portions of our dataset and verify the performance of the model."
   ]
  },
  {
   "cell_type": "code",
   "execution_count": 28,
   "metadata": {
    "id": "a3StCSFxuKST",
    "outputId": "eb8097e9-2eaa-411d-eb81-577351be1f32"
   },
   "outputs": [],
   "source": [
    "i=0\n",
    "while i < 5:\n",
    "    test_xi = np.asarray(xi[i]) \n",
    "    train_xi = np.concatenate(xi[:i] + xi[i+1:])\n",
    "    \n",
    "    X_train, X_test = dataX.iloc[train_xi, :], dataX.iloc[test_xi, :]\n",
    "    y_train, y_test = dataY.iloc[train_xi], dataY.iloc[test_xi]\n",
    "    \n",
    "    # Compute stats and normalize data\n",
    "    stats = compute_stats(X_train)\n",
    "    \n",
    "    X_train = normalize(X_train, stats)\n",
    "    X_test = normalize(X_test, stats)\n",
    "    \n",
    "    # Perform Logistic Regression\n",
    "    logReg = LogisticRegression(solver='liblinear')\n",
    "    \n",
    "    # Evaluate model\n",
    "    train_slr, test_slr = get_score(logReg, X_train, X_test, y_train, y_test)\n",
    "    \n",
    "    # Store the obtained results for further comparisons\n",
    "    train_scores_lr.append(train_slr)\n",
    "    test_scores_lr.append(test_slr)\n",
    "    \n",
    "    i += 1"
   ]
  },
  {
   "cell_type": "code",
   "execution_count": 29,
   "metadata": {
    "id": "aKDNHIUjuKSU",
    "outputId": "2bb7e1ee-45e4-468b-f06f-9fdf519b8ad6"
   },
   "outputs": [
    {
     "name": "stdout",
     "output_type": "stream",
     "text": [
      "Logistic Regression scores TRAIN:  [0.9406291655558519, 0.9368344370860927, 0.9486825512709895, 0.9464887397285815, 0.936168234231362]\n",
      "Logistic Regression scores TEST:  [0.9361433087460485, 0.9547325102880657, 0.9076923076923077, 0.9087837837837838, 0.9520970832446243]\n"
     ]
    }
   ],
   "source": [
    "print('Logistic Regression scores TRAIN: ', train_scores_lr)\n",
    "print('Logistic Regression scores TEST: ', test_scores_lr)"
   ]
  },
  {
   "cell_type": "code",
   "execution_count": 30,
   "metadata": {
    "id": "5LvGGmcWuKSV"
   },
   "outputs": [],
   "source": [
    "dataScores = pd.DataFrame()\n",
    "dataScores['LR scores train'] = train_scores_lr\n",
    "dataScores['LR scores test'] = test_scores_lr\n",
    "dataScores.to_csv(root_path + 'scores.csv')"
   ]
  },
  {
   "cell_type": "markdown",
   "metadata": {
    "id": "NLqftdoVuKSW"
   },
   "source": [
    "### Task 3\n",
    "\n",
    "**a)** Implement for this problem a Random Forest Classifier using the [sklearn library module](https://scikit-learn.org/stable/modules/generated/sklearn.ensemble.RandomForestClassifier.html) and optimise its parameters. Justify your conclusions. Add new columns to `dataScores DataFrame` for the obtained results.\n",
    "\n",
    "**b)** Implement for this problem a Linear Classifier using the [sklearn library module](https://scikit-learn.org/stable/modules/generated/sklearn.svm.LinearSVC.html) and optimise its parameters. Justify your conclusions. Add new columns to `dataScores DataFrame` for the obtained results.\n",
    "\n",
    "**c)** Which algorithm performed best? Why?"
   ]
  },
  {
   "cell_type": "code",
   "execution_count": 31,
   "metadata": {},
   "outputs": [
    {
     "name": "stdout",
     "output_type": "stream",
     "text": [
      "Random Forest Average ROC AUC Score: 0.9376914535268511\n",
      "Logistic Regression Average ROC AUC Score: 0.931365557540792\n",
      "Random Forest ROC AUC Score:  0    0.937691\n",
      "1    0.937691\n",
      "2    0.937691\n",
      "3    0.937691\n",
      "4    0.937691\n",
      "Name: RF scores train, dtype: float64\n",
      "Logistic Regression ROC AUC Score:  0    0.931366\n",
      "1    0.931366\n",
      "2    0.931366\n",
      "3    0.931366\n",
      "4    0.931366\n",
      "Name: LR scores train, dtype: float64\n",
      "Random Forest Classifier is better\n"
     ]
    }
   ],
   "source": [
    "# a) random forest classifier\n",
    "\n",
    "from sklearn.ensemble import RandomForestClassifier\n",
    "from sklearn.linear_model import LogisticRegression\n",
    "from sklearn.model_selection import GridSearchCV, cross_val_score\n",
    "\n",
    "# use 17 to get same result every time\n",
    "rf = RandomForestClassifier(random_state=17)\n",
    "\n",
    "# number of trees, max depth of each, minimum number of samples\n",
    "param_grid = {\n",
    "    'n_estimators': [50, 100, 200],\n",
    "    'max_depth': [None, 10, 20],\n",
    "    'min_samples_split': [2, 5, 10]\n",
    "}\n",
    "\n",
    "# find best parameters with 5 fold cross validation (cv = 5) as asked\n",
    "grid_search_rf = GridSearchCV(estimator=rf, param_grid=param_grid, cv=5, scoring='roc_auc')\n",
    "grid_search_rf.fit(dataX, dataY.values.ravel())\n",
    "\n",
    "# evaluating using best estimator\n",
    "best_rf = grid_search_rf.best_estimator_\n",
    "rf_scores = cross_val_score(best_rf, dataX, dataY, cv=5, scoring='roc_auc')\n",
    "\n",
    "# adding to dataScores\n",
    "dataScores['RF scores train'] = rf_scores.mean()\n",
    "print(f\"Random Forest Average ROC AUC Score: {rf_scores.mean()}\")\n",
    "\n",
    "\n",
    "\n",
    "# b) logistic regression (a linear classifier)\n",
    "\n",
    "# define \n",
    "log_reg = LogisticRegression(solver='liblinear', random_state=17)\n",
    "\n",
    "# hyperparameter grid for tuning\n",
    "param_grid_log_reg = {\n",
    "    'C': [0.1, 1, 10]\n",
    "}\n",
    "\n",
    "# find best parameters with 5 fold cross validation (cv = 5) as asked\n",
    "grid_search_log_reg = GridSearchCV(estimator=log_reg, param_grid=param_grid_log_reg, cv=5, scoring='roc_auc')\n",
    "grid_search_log_reg.fit(dataX, dataY.values.ravel())\n",
    "\n",
    "# evaluating using best estimator\n",
    "best_log_reg = grid_search_log_reg.best_estimator_\n",
    "log_reg_scores = cross_val_score(best_log_reg, dataX, dataY, cv=5, scoring='roc_auc')\n",
    "\n",
    "# adding to dataScores\n",
    "dataScores['LR scores train'] = log_reg_scores.mean()\n",
    "print(f\"Logistic Regression Average ROC AUC Score: {log_reg_scores.mean()}\")\n",
    "\n",
    "\n",
    "print(\"Random Forest ROC AUC Score: \", dataScores['RF scores train'])\n",
    "print(\"Logistic Regression ROC AUC Score: \", dataScores['LR scores train'])\n",
    "\n",
    "if log_reg_scores.mean() > rf_scores.mean():\n",
    "    print(\"Logical Regression is better\")\n",
    "else:\n",
    "    print(\"Random Forest Classifier is better\")\n",
    "\n",
    "# random forest is better because it can more accurately work with complex data sets and relationships"
   ]
  }
 ],
 "metadata": {
  "colab": {
   "collapsed_sections": [],
   "name": "Lab11_AI_Solved.ipynb",
   "provenance": []
  },
  "kernelspec": {
   "display_name": "base",
   "language": "python",
   "name": "python3"
  },
  "language_info": {
   "codemirror_mode": {
    "name": "ipython",
    "version": 3
   },
   "file_extension": ".py",
   "mimetype": "text/x-python",
   "name": "python",
   "nbconvert_exporter": "python",
   "pygments_lexer": "ipython3",
   "version": "3.12.7"
  }
 },
 "nbformat": 4,
 "nbformat_minor": 1
}
