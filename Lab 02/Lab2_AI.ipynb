{
 "cells": [
  {
   "cell_type": "markdown",
   "metadata": {
    "id": "gVtTU731ugud"
   },
   "source": [
    "# Artificial Intelligence - Fall 2024 - Laboratory 02:Python Introduction part II\n"
   ]
  },
  {
   "cell_type": "markdown",
   "metadata": {},
   "source": [
    "##### Review"
   ]
  },
  {
   "cell_type": "markdown",
   "metadata": {},
   "source": [
    "The following formula computes a _Z score_ and measures how far a single raw data value is from the population mean.\n",
    "\n",
    "\\begin{equation*}\n",
    "z = \\frac{X - \\mu }{\\sigma }\n",
    "\\end{equation*}\n",
    "\n",
    "where:\n",
    "* **_X_** is a single raw data value\n",
    "* `mu` is the population mean\n",
    "* `sigma` is the population standard deviation\n",
    "\n",
    "To find the standard deviation, the equation below comes in hand:\n",
    "\n",
    "\\begin{equation*}\n",
    "\\sigma = \\sqrt{\\frac{\\sum \\left | X - \\mu \\right |^{2}}{N}}\n",
    "\\end{equation*}\n",
    "\n",
    "where **_N_** is the number of data points in the population."
   ]
  },
  {
   "cell_type": "markdown",
   "metadata": {},
   "source": [
    "**a.** Using `sum()` and `list comprehension`, compute the mean and the standard deviation for the population defined below:"
   ]
  },
  {
   "cell_type": "code",
   "execution_count": 81,
   "metadata": {},
   "outputs": [
    {
     "name": "stdout",
     "output_type": "stream",
     "text": [
      "[4.5, 5, 5.5, 6, 6.25, 7, 15.25, 18, 18.45, 21, 21.45, 23]\n"
     ]
    }
   ],
   "source": [
    "data =  [4.5, 5, 5.5, 6, 6.25, 7, 15.25, 18, 18.45, 21, 21.45, 23]\n",
    "print(data)"
   ]
  },
  {
   "cell_type": "code",
   "execution_count": 82,
   "metadata": {},
   "outputs": [
    {
     "name": "stdout",
     "output_type": "stream",
     "text": [
      "12.616666666666667\n",
      "7.167441818544622\n"
     ]
    }
   ],
   "source": [
    "# Your implementation here:\n",
    "mean = sum(data) / len(data)\n",
    "std = (sum([(x - mean) ** 2 for x in data]) / len(data)) ** 0.5\n",
    "print(mean)\n",
    "print(std)\n"
   ]
  },
  {
   "cell_type": "markdown",
   "metadata": {},
   "source": [
    "**b.** Define the `z_score()` function and implement the mathematical expression. The obtained values should be stored in a _z score_ values list and rounded to 3 decimals."
   ]
  },
  {
   "cell_type": "code",
   "execution_count": 83,
   "metadata": {},
   "outputs": [
    {
     "name": "stdout",
     "output_type": "stream",
     "text": [
      "[-1.132, -1.063, -0.993, -0.923, -0.888, -0.784, 0.367, 0.751, 0.814, 1.17, 1.232, 1.449]\n"
     ]
    }
   ],
   "source": [
    "# Your implementatio here:\n",
    "def z_score():\n",
    "    z = [round((x - mean) / std, 3) for x in data]\n",
    "    return z\n",
    "\n",
    "print(z_score())"
   ]
  },
  {
   "cell_type": "markdown",
   "metadata": {},
   "source": [
    "**c.** Add the corresponding elongation of each raw data value into a dictionary."
   ]
  },
  {
   "cell_type": "code",
   "execution_count": 84,
   "metadata": {},
   "outputs": [],
   "source": [
    "# Your implementatio here:\n",
    "\n"
   ]
  },
  {
   "cell_type": "markdown",
   "metadata": {
    "id": "18ICxssnuguh"
   },
   "source": [
    "## Classes\n",
    "\n",
    "The object-oriented programming paradigm in Python helps with structuring programs into `individual objects`. But how?\n",
    "\n",
    "* An Object **O** from a class **C** has a set of properties **_p_** and actions **_a_**.\n",
    "\n",
    "* The functions of a class are called `methods`. Their responsibility is to model the data corresponding to a given object.\n",
    "\n",
    "* The objects of a class are known as `instances` and represent the source of collecting data.\n",
    "\n",
    "```python\n",
    "\n",
    "class EmptyClas:\n",
    "    \"\"\"\n",
    "    This is a class without variables and methods\n",
    "    \"\"\"\n",
    "    pass # The keyword pass is a placeholder\n",
    "\n",
    "\n",
    "class MyClass:\n",
    "    # A class variable\n",
    "    name = 'My Class'\n",
    "    \n",
    "    def my_method(self, my_var):\n",
    "        # An instance variable\n",
    "        self.my_instance = my_var\n",
    "```"
   ]
  },
  {
   "cell_type": "code",
   "execution_count": 85,
   "metadata": {
    "id": "XhgoWxJGuguk"
   },
   "outputs": [],
   "source": [
    "# Implement Task 0 b and c here:\n",
    "\n",
    "class ScientificConference:\n",
    "    \"\"\"\n",
    "    To define the properties of a class, \n",
    "    we use a special method called __init__.\n",
    "    \n",
    "    The special variable called \"self\"\n",
    "    helps with associating the attributes\n",
    "    w\\ the new object: similar to `this`\n",
    "    keyword from other programming languages\n",
    "    and required to address variables from\n",
    "    classes. \n",
    "    \"\"\"\n",
    "    def __init__(self, name, year, papers=None):\n",
    "        \"\"\"\n",
    "        Establish the attributes of the\n",
    "        class and assign values to the \n",
    "        corresponding parameters.\n",
    "        \"\"\" \n",
    "        self.name = name\n",
    "        self.year = year\n",
    "\n",
    "        \"\"\"\n",
    "        b. Add new attribute `papers`\n",
    "        \"\"\"\n",
    "\n",
    "        if papers is None:\n",
    "            self.papers = {}\n",
    "        else:\n",
    "            self.papers = papers\n",
    "        \n",
    "        \"\"\"\n",
    "        Remove Duplicates from papers\n",
    "        \"\"\"\n",
    "        \n",
    "        for author, papers in self.papers.items():\n",
    "            self.papers[author] = list(set(papers))\n",
    "\n",
    "        \n",
    "\n",
    "       \n",
    "\n",
    "    \"\"\"Create a new attribute for the `class ScientificConference`, \n",
    "    which is a dictionary passed as a parameter to the instances of \n",
    "    the class and holds all of the papers of the conference.\n",
    "    _Note:_ You should check if `papers` is `None` in `__init__` \n",
    "    and set it to `{}` instead.\n",
    "    _Please handle duplicate entries by removing them!_\"\"\"\n",
    "\n",
    "    def add_manuscript(self, title, researcher):\n",
    "        \"\"\"\n",
    "        Add a new manuscript to the papers dictionary.\n",
    "        \"\"\"\n",
    "        if researcher in self.papers:\n",
    "            if title not in self.papers[researcher]:\n",
    "                self.papers[researcher].append(title)\n",
    "        else:\n",
    "            self.papers[researcher] = [title]\n",
    "\n",
    "    def __str__(self):\n",
    "        \"\"\"\n",
    "        To return the String representation of\n",
    "        an object, we use the __str__ method. \n",
    "        \"\"\"\n",
    "        result = self.name + ' ' + str(self.year) + ': \\n'\n",
    "        for author, papers in self.papers.items():\n",
    "            result += f'{author}: {\", \".join([str(paper) for paper in papers])} \\n'\n",
    "        return result\n"
   ]
  },
  {
   "cell_type": "markdown",
   "metadata": {
    "id": "6xdy3BZ7ugu1"
   },
   "source": [
    "### Task 0\n",
    "\n",
    "**a.** Define two new `instances` of the `class ScientificConference` and return their representations.\n",
    "\n",
    "Your output should look like:\n",
    "\n",
    "`Proposals for ICML and NeurIPS conferences will be accepted until the end of November 2021.`\n",
    "\n",
    "_Hint:_ `instance.attribute` helps you extracting a certain property."
   ]
  },
  {
   "cell_type": "code",
   "execution_count": 86,
   "metadata": {
    "id": "ezLUEAgkugu5"
   },
   "outputs": [
    {
     "name": "stdout",
     "output_type": "stream",
     "text": [
      "Proposals for ICML and NeurIPS conferences will be accepted until the end of November 2021.\n"
     ]
    }
   ],
   "source": [
    "# Your implementation here\n",
    "\n",
    "a = ScientificConference('ICML', 2021)\n",
    "b = ScientificConference('NeurIPS', 2021)\n",
    "\n",
    "print(\"Proposals for\", a.name, \"and\", b.name, \"conferences will be accepted until the end of November\", str(a.year) + \".\")"
   ]
  },
  {
   "cell_type": "markdown",
   "metadata": {
    "id": "7ZvLz1GZugvC"
   },
   "source": [
    "**b.** Create a new attribute for the `class ScientificConference`, which is a dictionary passed as a parameter to the instances of the class and holds all of the papers of the conference.\n",
    "\n",
    "_Note:_ You should check if `papers` is `None` in `__init__` and set it to `{}` instead.\n",
    "\n",
    "_Please handle duplicate entries by removing them!_"
   ]
  },
  {
   "cell_type": "code",
   "execution_count": 87,
   "metadata": {},
   "outputs": [
    {
     "name": "stdout",
     "output_type": "stream",
     "text": [
      "ICML 2021: \n",
      "John Doe: Paper 5, Paper 2, Paper 1 \n",
      "Jane Doe: Paper 3 \n",
      "\n",
      "{'John Doe': ['Paper 5', 'Paper 2', 'Paper 1'], 'Jane Doe': ['Paper 3']}\n"
     ]
    }
   ],
   "source": [
    "# Verifying that dictionary works and duplicates are removed\n",
    "\n",
    "a = ScientificConference('ICML', 2021, {'John Doe': ['Paper 1', 'Paper 5', 'Paper 2', 'Paper 2'], 'Jane Doe': ['Paper 3']})\n",
    "print(a)\n",
    "print(a.papers)"
   ]
  },
  {
   "cell_type": "markdown",
   "metadata": {
    "id": "Tw7tlZtTugvF"
   },
   "source": [
    "**c.** Define the `add_manuscript` method which generates new entries in the dictionary described before. Please consider using the _researcher_ as a `key` and the _title_ as `values`."
   ]
  },
  {
   "cell_type": "code",
   "execution_count": 88,
   "metadata": {},
   "outputs": [
    {
     "name": "stdout",
     "output_type": "stream",
     "text": [
      "ICML 2021: \n",
      "John Doe: Paper 5, Paper 2, Paper 1 \n",
      "Jane Doe: Paper 3, Paper 4 \n",
      "\n"
     ]
    }
   ],
   "source": [
    "# Verify here if your add_manuscript method works: add an item & print it\n",
    "\n",
    "a.add_manuscript('Paper 4', 'Jane Doe')\n",
    "print(a)"
   ]
  },
  {
   "cell_type": "markdown",
   "metadata": {
    "id": "HUKrHifWugvP"
   },
   "source": [
    "### Task 1\n",
    "\n",
    "**a.** Define the class `Person` which stores the `title`, `name` and `surname` of a person.\n",
    "\n",
    "The _tuple_ `allowed_titles` is a class variable which helps to verify if the title of a person is \"Mr\", \"Mrs\", \"Ms\", \"Senior Researcher\", \"Professor of CS\" or \"Computer Scientist\".\n",
    "\n",
    "An error is returned if the title is not valid.\n",
    "\n",
    "Use `__str__` defined below:\n",
    "\n",
    "```python\n",
    "    def __str__(self):\n",
    "        return self.title + ' ' + self.surname + ' ' + self.name\n",
    "```"
   ]
  },
  {
   "cell_type": "code",
   "execution_count": 89,
   "metadata": {
    "id": "CLYRkzHSugvR"
   },
   "outputs": [],
   "source": [
    "# Your implementation here\n",
    "class Person:\n",
    "    def __init__(self, title, name, surname):\n",
    "        allowed_titles = ['Mr', 'Mrs', 'Ms', 'Senior Researcher', 'Professor of CS', \"Computer Scientist\"]\n",
    "\n",
    "        self.name = name\n",
    "        self.surname = surname\n",
    "        if title not in allowed_titles:\n",
    "            raise ValueError(\"Title is not right, please choose from the following: 'Mr', 'Mrs', 'Ms', 'Senior Researcher', 'Professor of CS', 'Computer Scientist'\")\n",
    "        else:\n",
    "            self.title = title\n",
    "\n",
    "    def __str__(self):\n",
    "        return self.title + ' ' + self.name + ' ' + self.surname"
   ]
  },
  {
   "cell_type": "markdown",
   "metadata": {
    "id": "ZcjB03J3ugva"
   },
   "source": [
    "**b.** Create two instances of the class Person and verify if the following entries are valid:\n",
    "\n",
    "* _Mr Ian Goodfellow_,\n",
    "* _SeniorResearcher Tomas Mikolov._"
   ]
  },
  {
   "cell_type": "code",
   "execution_count": 90,
   "metadata": {
    "id": "U8jKwHK8ugvc"
   },
   "outputs": [
    {
     "name": "stdout",
     "output_type": "stream",
     "text": [
      "Mr Ian Goodfellow\n",
      "Senior Researcher Tomas Mikolov\n"
     ]
    }
   ],
   "source": [
    "# Your implementation here\n",
    "\n",
    "Test1 = Person('Mr', 'Ian', 'Goodfellow')\n",
    "print(Test1)\n",
    "Test2 = Person('Senior Researcher', 'Tomas', 'Mikolov')\n",
    "print(Test2)"
   ]
  },
  {
   "cell_type": "markdown",
   "metadata": {
    "id": "sJGqy2Zxugvm"
   },
   "source": [
    "### Task 2\n",
    "\n",
    "In `ScientificConference` we have been using the paper parameter as a string, but this concept requires a detailed structure.\n",
    "\n",
    "Introduce a new class, `Paper`, which has the following attributes:\n",
    "\n",
    "* `authors`, \n",
    "* `title`, \n",
    "* `a_id`,\n",
    "* `year`, \n",
    "* `status` (published or in development), \n",
    "* `peer_rating` (Excellent, Good, Fair, Poor, Barely Acceptable, Unacceptable)."
   ]
  },
  {
   "cell_type": "code",
   "execution_count": 91,
   "metadata": {
    "id": "1hPZ7q3rugvn"
   },
   "outputs": [
    {
     "name": "stdout",
     "output_type": "stream",
     "text": [
      "Deep Learning, Ian Goodfellow, Yoshua Bengio, Aaron Courville et al. (2016), a_id: 1, status: published, rating: Excellent\n",
      "Sequence to Sequence Learning, Tomas Mikolov, Ilya Sutskever, Quoc Le et al. (2014), a_id: 2, status: in development, rating: Good\n",
      "Paper 3, John Doe, Jane Doe et al. (2021), a_id: 3, status: published, rating: Excellent\n"
     ]
    }
   ],
   "source": [
    "class Paper:\n",
    "    def __init__(self, authors, title, a_id, status, year, peer_rating):\n",
    "        allowed_status = ['published', 'in development']\n",
    "        allowed_peer_rating = ['Excellent', 'Good', 'Fair', 'Barely Acceptable', 'Unacceptable']\n",
    "        if status not in allowed_status:\n",
    "            raise ValueError(\"Status is not right, please choose from the following: 'published', 'in development'\")\n",
    "        else:\n",
    "            self.status = status\n",
    "        if peer_rating not in allowed_peer_rating:\n",
    "            raise ValueError(\"Peer rating is not right, please choose from the following: 'Excellent', 'Good', 'Fair', 'Barely Acceptable', 'Unacceptable'\")\n",
    "        else:\n",
    "            self.peer_rating = peer_rating\n",
    "        self.authors = authors\n",
    "        self.title = title\n",
    "        self.a_id = a_id\n",
    "        self.year = year\n",
    "\n",
    "    def __str__(self):\n",
    "        if type(self.authors[0]) == str:\n",
    "            return  f'{self.title}, {\", \".join([author for author in self.authors])} et al. ({self.year}), a_id: '\\\n",
    "                    f'{self.a_id}, status: {self.status}, rating: {self.peer_rating}'\n",
    "        else:\n",
    "            return  f'{self.title}, {\", \".join([str(author.title + \" \" + author.name + \" \" + author.surname) for author in self.authors])} et al. ({self.year}), a_id: '\\\n",
    "                    f'{self.a_id}, status: {self.status}, rating: {self.peer_rating}'\n",
    "\n",
    "# Testing\n",
    "authors = ['Ian Goodfellow', 'Yoshua Bengio', 'Aaron Courville']\n",
    "paper1 = Paper(authors, 'Deep Learning', '1', 'published', 2016, 'Excellent')\n",
    "print(paper1)\n",
    "\n",
    "authors2 = ['Tomas Mikolov', 'Ilya Sutskever', 'Quoc Le']\n",
    "paper2 = Paper(authors2, 'Sequence to Sequence Learning', '2', 'in development', 2014, 'Good')\n",
    "print(paper2)\n",
    "\n",
    "authors3 = ['John Doe', 'Jane Doe']\n",
    "paper3 = Paper(authors3, 'Paper 3', '3', 'published', 2021, 'Excellent')\n",
    "print(paper3)"
   ]
  },
  {
   "cell_type": "markdown",
   "metadata": {
    "id": "j82CL54Augvv"
   },
   "source": [
    "## Inheritence\n",
    "\n",
    "In Object-Oriented programming, this concept enables us to transfer the methods and the properties of a class to another class."
   ]
  },
  {
   "cell_type": "markdown",
   "metadata": {
    "id": "rZqutiFsugvw"
   },
   "source": [
    "### Task 3\n",
    "\n",
    "Create a class named `Researcher`, which inherits the properties and methods from the `Person` class. Besides, this class has an additional parameter, `papers` which is `None` by default.\n",
    "\n",
    "_Note:_ You should check if `papers` is `None` in `__init__` and set it to `[]` instead.\n",
    "\n",
    "```python\n",
    "class Researcher(Person):\n",
    "    def __init__('Add arguments'):\n",
    "        super().__init__(title, name, surname)\n",
    "```"
   ]
  },
  {
   "cell_type": "code",
   "execution_count": 92,
   "metadata": {
    "id": "QCfpoVveugvy"
   },
   "outputs": [
    {
     "name": "stdout",
     "output_type": "stream",
     "text": [
      "Senior Researcher Tomas Mikolov []\n"
     ]
    }
   ],
   "source": [
    "# Define your first researcher\n",
    "# Expected output: Senior Researcher Tomas Mikolov\n",
    "\n",
    "class Researcher(Person):\n",
    "    def __init__(self, title, name, surname, papers=None):\n",
    "        super().__init__(title, name, surname)\n",
    "        if papers is None:\n",
    "            self.papers = []\n",
    "\n",
    "    def get_collab(self, researcher):\n",
    "            collab_papers = []\n",
    "            for paper in self.papers:\n",
    "                for paper2 in researcher.papers:\n",
    "                    if paper == paper2:\n",
    "                        collab_papers.append(paper)\n",
    "            return collab_papers\n",
    "\n",
    "    def verify_co_authorship(self):\n",
    "        for paper in self.papers:\n",
    "            if len(paper.authors) > 1:\n",
    "                return True\n",
    "        return False\n",
    "        \n",
    "\n",
    "    def __str__(self):\n",
    "        return super().__str__() + ' ' + str(self.papers)\n",
    "\n",
    "    \n",
    "    \"\"\"\n",
    "    Implement the `get_collab` function inside the `class Researcher` to discover the papers written by two researchers.\n",
    "    \"\"\"\n",
    "    \n",
    "# Testing\n",
    "Test1 = Researcher('Senior Researcher', 'Tomas', 'Mikolov')\n",
    "print(Test1)\n"
   ]
  },
  {
   "cell_type": "markdown",
   "metadata": {
    "id": "40nAxy14ugv8"
   },
   "source": [
    "### Task 4\n",
    "\n",
    "Consider the following scientists:\n",
    "\n",
    "1.  Paper _Deep Learning_ published by Yann LeCun, Yoshua Bengio, Geoffrey Hinton, in _nature 521_, id = https://doi.org/10.1038/nature14539, peer_rating = Excelent.\n",
    "\n",
    "2. Paper _On the difficulty of training recurrent neural networks_ by Razvan Pascanu, Tomas Mikolov, Professor of computer science Yoshua Bengio, in ICML 2013, id = https://arxiv.org/abs/1211.5063, peer_rating = Excelent.\n",
    "\n",
    "2. Paper _Generative Adversarial Nets_ by Ian Goodfellow and Yoshua Bengio, NeurIPS 2015, id = http://papers.nips.cc/paper/5423-generative-adversarial-nets.pdf, peer_rating = Excelent.\n",
    "\n",
    "3. Paper _Handwritten Digit Recognition with a Back-Propagation Network_ by Computer Scientist Yann LeCun, NeurIPS 1989, id =  https://papers.nips.cc/paper/293-handwritten-digit-recognition-with-a-back-propagation-network, peer_rating = Excelent.\n",
    "\n",
    "4. Paper _Gated Softmax Classification_ by Geoffrey Hintorn, NeurIPS 2010, id = http://papers.neurips.cc/paper/3895-gated-softmax-classification, peer_rating = Good.\n",
    "\n",
    "_Note:_ Let us consider \"Mr\" as a default title for the researchers without a specific caption. Also, for the id of a paper, please use only integers from the provided links.\n",
    "\n",
    "**a.** Define the next 5 scientists and use them in your `paper` objects.\n",
    "\n",
    "**b.** Create the `verify_co_authorship` function inside the `class Researcher` which checks if a certain researcher ever co-authored a paper.\n",
    "_Hint:_ Use `self.co_authored = False` inside the `__init__` function.\n",
    "\n",
    "**c.** Implement the `get_collab` function inside the `class Researcher` to discover the papers written by two researchers.\n",
    "\n",
    "For instance, if Yoshua Bengio is researcher2 and Ian Goodfellow is researcher3, then:\n",
    "\n",
    "`print_papers(researcher2.get_collab(researcher3))` should output:\n",
    "\n",
    "_Generative Adversarial Nets, Mr Ian Goodfellow et al. (2015), a_id: 5423, status: published, rating: Excelent_\n",
    "\n",
    "_Note:_ This function helps you to print the papers from a given list.\n",
    "\n",
    "```python\n",
    "def print_papers(paper_list):\n",
    "    for paper in paper_list:\n",
    "        print(paper)\n",
    "```\n",
    "\n",
    "**d.** What are the papers written by Yoshua Bengio?\n",
    "\n",
    "Expected output:\n",
    "\n",
    "`Deep Learning, Computer Scientist Yann LeCun et al. (2015), a_id: 14539, status: published, rating: Excelent`\n",
    "\n",
    "`Generative Adversarial Nets, Mr Ian Goodfellow et al. (2015), a_id: 5423, status: published, rating: Excelent`\n",
    "\n",
    "`Paper On the difficulty of training recurrent neural networks, Mr Razvan Pascanu et al. (2013), a_id: 5063, status: published, rating: Excelent`\n",
    "\n",
    "**e.** Did he ever co-author a paper?\n",
    "\n",
    "**f.** Which papers are published by Yann LeCun?\n",
    "\n",
    "Expected output:\n",
    "\n",
    "`Deep Learning, Computer Scientist Yann LeCun et al. (2015), a_id: 14539, status: published, rating: Excelent`\n",
    "\n",
    "`Handwritten Digit Recognition with a Back-Propagation Network, Computer Scientist Yann LeCun et al. (1989), a_id: 293, status: published, rating: Good`"
   ]
  },
  {
   "cell_type": "code",
   "execution_count": 93,
   "metadata": {},
   "outputs": [
    {
     "name": "stdout",
     "output_type": "stream",
     "text": [
      "Papers written by Yoshua Bengio and Ian Goodfellow:\n",
      "Generative Adversarial Nets, Mr Ian Goodfellow, Professor of CS Yoshua Bengio et al. (2015), a_id: 5423, status: published, rating: Excellent\n",
      "\n",
      "Papers written by Yoshua Bengio:\n",
      "Deep Learning, Computer Scientist Yann LeCun, Professor of CS Yoshua Bengio, Mr Geoffrey Hinton et al. (2015), a_id: 14539, status: published, rating: Excellent\n",
      "On the difficulty of training recurrent neural networks, Mr Razvan Pascanu, Mr Tomas Mikolov, Professor of CS Yoshua Bengio et al. (2012), a_id: 5063, status: published, rating: Excellent\n",
      "Generative Adversarial Nets, Mr Ian Goodfellow, Professor of CS Yoshua Bengio et al. (2015), a_id: 5423, status: published, rating: Excellent\n",
      "\n",
      "Did Yoshua Bengio ever co-author a paper?\n",
      "True\n",
      "\n",
      "Papers published by Yann LeCun:\n",
      "Deep Learning, Computer Scientist Yann LeCun, Professor of CS Yoshua Bengio, Mr Geoffrey Hinton et al. (2015), a_id: 14539, status: published, rating: Excellent\n",
      "Handwritten Digit Recognition with a Back-Propagation Network, Computer Scientist Yann LeCun et al. (1998), a_id: 293, status: published, rating: Excellent\n"
     ]
    }
   ],
   "source": [
    "def print_papers(paper_list):\n",
    "    for paper in paper_list:\n",
    "        print(paper)\n",
    "\n",
    "Res1 = Researcher('Computer Scientist', 'Yann', 'LeCun')\n",
    "Res2 = Researcher('Professor of CS', 'Yoshua', 'Bengio')\n",
    "Res3 = Researcher('Mr', 'Geoffrey', 'Hinton')\n",
    "Res4 = Researcher('Mr', 'Razvan', 'Pascanu')\n",
    "Res5 = Researcher('Mr', 'Tomas', 'Mikolov')\n",
    "Res6 = Researcher('Mr', 'Ian', 'Goodfellow')\n",
    "\n",
    "ppr1 = Paper([Res1, Res2, Res3], 'Deep Learning', '14539', 'published', 2015, 'Excellent')\n",
    "ppr2 = Paper([Res4, Res5, Res2], 'On the difficulty of training recurrent neural networks', '5063', 'published', 2012, 'Excellent')\n",
    "ppr3 = Paper([Res6, Res2], 'Generative Adversarial Nets', '5423', 'published', 2015, 'Excellent')\n",
    "ppr4 = Paper([Res1], 'Handwritten Digit Recognition with a Back-Propagation Network', '293', 'published', 1998, 'Excellent')\n",
    "ppr5 = Paper([Res3], 'Gated Softmax Classification', '3895', 'published', 2010, 'Good')\n",
    "\n",
    "Res1.papers = [ppr1, ppr4]\n",
    "Res2.papers = [ppr1, ppr2, ppr3]\n",
    "Res3.papers = [ppr1, ppr5]\n",
    "Res4.papers = [ppr2]\n",
    "Res5.papers = [ppr2]\n",
    "Res6.papers = [ppr3]\n",
    "\n",
    "print(\"Papers written by Yoshua Bengio and Ian Goodfellow:\")\n",
    "print_papers(Res2.get_collab(Res6))\n",
    "print(\"\\nPapers written by Yoshua Bengio:\")\n",
    "print_papers(Res2.papers)\n",
    "print(\"\\nDid Yoshua Bengio ever co-author a paper?\")\n",
    "print(Res2.verify_co_authorship())\n",
    "print(\"\\nPapers published by Yann LeCun:\")\n",
    "print_papers(Res1.papers)"
   ]
  },
  {
   "cell_type": "markdown",
   "metadata": {
    "id": "AImKzUZgugv9"
   },
   "source": [
    "### Task 5 \n",
    "\n",
    "Consider an updated version of the `ScientificConference` class, which should have a modified version of the function `add_manuscript`.\n",
    "\n",
    "Use the `status` and the `peer_rating` variables as a **threshold** to add papers in your `papers` dictionary. The conferences will only be accepting `Excelent` papers. For this case, the dictionary has the year of the paper as `key`, and the `values` are stored as a tuple of `(researcher, manuscript)`. For the papers which don't satisfy this condition, the message _\"Please review your submission.\"_ is displayed.\n",
    "\n",
    "For papers submitted in 2015, when printing the conference, the `str` function should output:\n",
    "\n",
    "```\n",
    "NeurIPS 2020: \n",
    "2015: \n",
    "Mr Ian Goodfellow: Generative Adversarial Nets, Mr Ian Goodfellow et al. (2015), id: 5423, status: published, rating: Excelent \n",
    "Computer Scientist Yann LeCun: Deep Learning, Computer Scientist Yann LeCun et al. (2015), id: 14539, status: published, rating: Excelent\n",
    "```"
   ]
  },
  {
   "cell_type": "code",
   "execution_count": 94,
   "metadata": {
    "id": "EDsHycjEugv_"
   },
   "outputs": [],
   "source": [
    "class ScientificConferenceUpdate:\n",
    "    \"\"\"\n",
    "    To define the properties of a class, \n",
    "    we use a special method called __init__.\n",
    "    \n",
    "    The special variable called \"self\"\n",
    "    helps with associating the attributes\n",
    "    w\\ the new object: similar to `this`\n",
    "    keyword from other programming languages\n",
    "    and required to address variables from\n",
    "    classes. \n",
    "    \"\"\"\n",
    "    def __init__(self, name):\n",
    "        \"\"\"\n",
    "        Establish the attributes of the\n",
    "        class and assign values to the \n",
    "        corresponding parameters.\n",
    "        \"\"\" \n",
    "        self.name = name\n",
    "        self.year = year\n",
    "        \"\"\"\n",
    "        Add new attribute `papers`\n",
    "        \"\"\"\n",
    "    \n",
    "    def add_manuscript(self, manuscript, researcher):\n",
    "        'TO DO'\n",
    "        \n",
    "    def __str__(self):\n",
    "        \"\"\"\n",
    "        To return the String representation of\n",
    "        an object, we use the __str__ method. \n",
    "        \"\"\"\n",
    "        result = self.name + ' ' + str(self.year) + ': \\n'\n",
    "        for year, papers in self.papers.items():\n",
    "            result += f'{year}: \\n'\n",
    "            for (author, paper) in papers: \n",
    "                result += f'{author}: {paper} \\n'\n",
    "        return result"
   ]
  }
 ],
 "metadata": {
  "colab": {
   "collapsed_sections": [],
   "name": "Lab03_AI.ipynb",
   "provenance": []
  },
  "kernelspec": {
   "display_name": "Python 3",
   "language": "python",
   "name": "python3"
  },
  "language_info": {
   "codemirror_mode": {
    "name": "ipython",
    "version": 3
   },
   "file_extension": ".py",
   "mimetype": "text/x-python",
   "name": "python",
   "nbconvert_exporter": "python",
   "pygments_lexer": "ipython3",
   "version": "3.10.6"
  }
 },
 "nbformat": 4,
 "nbformat_minor": 1
}
