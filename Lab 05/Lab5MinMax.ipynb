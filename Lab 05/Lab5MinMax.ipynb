{
 "cells": [
  {
   "cell_type": "markdown",
   "metadata": {
    "id": "0Y435U2gHFou"
   },
   "source": [
    "# Artificial Intelligence - Laboratory 05\n",
    "\n",
    "## _Searching algorithms for optimal decision-making in game theory and AI_\n"
   ]
  },
  {
   "cell_type": "markdown",
   "metadata": {
    "id": "LSIproEOHFox"
   },
   "source": [
    "## Introduction\n",
    "\n",
    "In gaming tehory, the _decision-making process_ relies on the searching algorithm guiding the investigation of the search-space.\n",
    "\n",
    "Today's challenge sets the **MinMax Algorithm** as the main character of a  two-player game.\n",
    "\n",
    "Using tic-tac-toe as an example, the algorithm should compute the next best move by evaluating the utility of the board."
   ]
  },
  {
   "cell_type": "markdown",
   "metadata": {
    "id": "ORg7E4NcHFpI"
   },
   "source": [
    "For this problem the utility value can be:\n",
    "\n",
    "* _-1_ if player that seeks minimum wins;\n",
    "* _0_ if it's a tie;\n",
    "* _1_ if player that seeks maximum wins.\n",
    "\n"
   ]
  },
  {
   "cell_type": "code",
   "execution_count": 10,
   "metadata": {},
   "outputs": [],
   "source": [
    "board = [\" \" for _ in range(9)]"
   ]
  },
  {
   "cell_type": "code",
   "execution_count": 11,
   "metadata": {},
   "outputs": [
    {
     "name": "stdout",
     "output_type": "stream",
     "text": [
      "  |   |  \n",
      "---------\n",
      "  |   |  \n",
      "---------\n",
      "  |   |  \n"
     ]
    }
   ],
   "source": [
    "def display_board(board):\n",
    "    for i in range(0, 9, 3):\n",
    "        print(\" | \".join(board[i:i+3]))\n",
    "        if i < 6:\n",
    "            print(\"-\" * 9)\n",
    "display_board(board)"
   ]
  },
  {
   "cell_type": "code",
   "execution_count": 12,
   "metadata": {},
   "outputs": [],
   "source": [
    "# the method should return True or False based on who won the game\n",
    "# checking draw [' ', ' ', 'X', ' ', ' ', ' ', ' ', ' ', ' ']\n",
    "def check_win(board, player):\n",
    "    win_conds = [[0, 1, 2], [3, 4, 5], [6, 7 ,8], [0, 3, 6], [1, 4, 7], [2, 5, 8], [0, 4, 8], [2, 4, 6]]\n",
    "\n",
    "    for win_cond in win_conds:\n",
    "        win_check = True\n",
    "        for check in win_cond:\n",
    "            if not player == board[check]:\n",
    "                win_check = False\n",
    "                break\n",
    "        if win_check == True:\n",
    "            return win_check\n",
    "    return win_check\n",
    "\n",
    "# board2 = ['X', 'O', 'X', 'O', 'X', 'X', 'X', 'O', 'O']\n",
    "# display_board(board2)\n",
    "# print(check_win(board2, 'X'))"
   ]
  },
  {
   "cell_type": "code",
   "execution_count": 13,
   "metadata": {},
   "outputs": [],
   "source": [
    "# Function to check for a draw\n",
    "def check_draw(board):\n",
    "    if ' ' in board:\n",
    "        return False\n",
    "\n",
    "    if check_win(board, 'X') == False and check_win(board, 'O') == False:\n",
    "        return True\n",
    "        \n",
    "    return False\n",
    "\n",
    "# board2 = ['X', 'X', 'O', 'O', 'X', 'X', 'X', 'O', 'O']\n",
    "# display_board(board2)\n",
    "# print(check_draw(board2))"
   ]
  },
  {
   "cell_type": "markdown",
   "metadata": {
    "id": "06WTByxMHFph"
   },
   "source": [
    "## Min-Max Algorithm\n",
    "\n",
    "\n",
    "Build the search game tree to determine the best move using:\n",
    "\n",
    "* the AI's strategy is to _maximise_ its score while the opponent's score minimises;\n",
    "* the human's strategy is to _minimise_ AI's score."
   ]
  },
  {
   "cell_type": "code",
   "execution_count": 14,
   "metadata": {},
   "outputs": [],
   "source": [
    "def minimax(board, depth, maximizing_player):\n",
    "    # Base cases: check for terminal states\n",
    "    if check_win(board, \"O\"):\n",
    "        return 1\n",
    "    if check_win(board, \"X\"):\n",
    "        return -1\n",
    "    if check_draw(board):\n",
    "        return 0\n",
    "\n",
    "    if maximizing_player:\n",
    "        max_eval = float(\"-inf\")\n",
    "        for i in range(9):\n",
    "            if board[i] == \" \":\n",
    "                board[i] = \"O\"\n",
    "                eval = minimax(board, depth - 1, False)\n",
    "                board[i] = \" \"\n",
    "                max_eval = max(max_eval, eval)\n",
    "        return max_eval\n",
    "    else:\n",
    "        min_eval = float(\"inf\")\n",
    "        for i in range(9):\n",
    "            if board[i] == \" \":\n",
    "                board[i] = \"X\"\n",
    "                eval = minimax(board, depth - 1, True)\n",
    "                board[i] = \" \"\n",
    "                min_eval = min(min_eval, eval)\n",
    "        return min_eval\n"
   ]
  },
  {
   "cell_type": "markdown",
   "metadata": {
    "id": "06WTByxMHFph"
   },
   "source": [
    "Improve your algorithm with alpha-beta pruning "
   ]
  },
  {
   "cell_type": "code",
   "execution_count": 15,
   "metadata": {},
   "outputs": [],
   "source": [
    "def minimaxAB(board, depth, maximizing_player, alpha, beta):\n",
    "    # Base cases: check for terminal states\n",
    "    if check_win(board, \"O\"):\n",
    "        return 1\n",
    "    if check_win(board, \"X\"):\n",
    "        return -1\n",
    "    if check_draw(board):\n",
    "        return 0\n",
    "\n",
    "    if maximizing_player:\n",
    "        max_eval = float(\"-inf\")\n",
    "        for i in range(9):\n",
    "            if board[i] == \" \":\n",
    "                board[i] = \"O\"\n",
    "                eval = minimaxAB(board, depth - 1, False, alpha, beta)\n",
    "                board[i] = \" \"\n",
    "                max_eval = max(max_eval, eval)\n",
    "                alpha = max(alpha, eval)\n",
    "                if beta <= alpha:\n",
    "                    break\n",
    "        return max_eval\n",
    "    else:\n",
    "        min_eval = float(\"inf\")\n",
    "        for i in range(9):\n",
    "            if board[i] == \" \":\n",
    "                board[i] = \"X\"\n",
    "                eval = minimaxAB(board, depth - 1, True, alpha, beta)\n",
    "                board[i] = \" \"\n",
    "                min_eval = min(min_eval, eval)\n",
    "                beta = min(beta, eval)\n",
    "                if beta <= alpha:\n",
    "                    break \n",
    "        return min_eval\n"
   ]
  },
  {
   "cell_type": "code",
   "execution_count": 16,
   "metadata": {},
   "outputs": [],
   "source": [
    "# Function to find the best move using the minimax algorithm\n",
    "import math\n",
    "def best_move(board):\n",
    "    best_eval = float(\"-inf\")\n",
    "    best_move = -1\n",
    "    for i in range(9):\n",
    "        if board[i] == \" \":\n",
    "            board[i] = \"O\"\n",
    "            evaluation = minimax(board, 0, False) # or minimax(board, 0, False, -math.inf, math.inf)\n",
    "            board[i] = \" \"\n",
    "            if evaluation > best_eval:\n",
    "                best_eval = evaluation\n",
    "                best_move = i\n",
    "    return best_move\n",
    "\n",
    "# Function to find the best move using the minimax algorithm\n",
    "import math\n",
    "def best_move_depth_limited(board):\n",
    "    best_eval = float(\"-inf\")\n",
    "    best_move_depth_limited = -1\n",
    "    for i in range(9):\n",
    "        if board[i] == \" \":\n",
    "            board[i] = \"O\"\n",
    "            evaluation = minimax_depth_limited(board, False, 3) # or minimax(board, 0, False, -math.inf, math.inf)\n",
    "            board[i] = \" \"\n",
    "            if evaluation > best_eval:\n",
    "                best_eval = evaluation\n",
    "                best_move_depth_limited = i\n",
    "    return best_move_depth_limited"
   ]
  },
  {
   "cell_type": "code",
   "execution_count": 17,
   "metadata": {},
   "outputs": [
    {
     "name": "stdout",
     "output_type": "stream",
     "text": [
      "  |   |  \n",
      "---------\n",
      "  |   |  \n",
      "---------\n",
      "  |   |  \n",
      " \n",
      "\n",
      "\n",
      "\n",
      "  |   | X\n",
      "---------\n",
      "  | O |  \n",
      "---------\n",
      "  |   |  \n",
      " \n",
      "\n",
      "\n",
      "\n",
      "X | O | X\n",
      "---------\n",
      "  | O |  \n",
      "---------\n",
      "  |   |  \n",
      " \n",
      "\n",
      "\n",
      "\n",
      "X | O | X\n",
      "---------\n",
      "X | O |  \n",
      "---------\n",
      "  | O |  \n",
      "AI wins!\n"
     ]
    }
   ],
   "source": [
    "def clear_board(board):\n",
    "    for i in range(9):\n",
    "        board[i] = ' '\n",
    "\n",
    "clear_board(board)\n",
    "\n",
    "while True:\n",
    "    display_board(board)\n",
    "    print(\" \\n\\n\\n\")\n",
    "    player_move = int(input(\"Enter your move (0-8): \"))\n",
    "    \n",
    "    if board[player_move] != \" \":\n",
    "        print(\"Invalid move. Try again.\")\n",
    "        continue\n",
    "    \n",
    "    board[player_move] = \"X\"\n",
    "    \n",
    "    if check_win(board, \"X\"):\n",
    "        display_board(board)\n",
    "        print(\"You win!\")\n",
    "        break\n",
    "    \n",
    "    if check_draw(board):\n",
    "        display_board(board)\n",
    "        print(\"It's a draw!\")\n",
    "        break\n",
    "    \n",
    "    #ai_move = best_move(board)\n",
    "    ai_move_depth_limited = best_move_depth_limited(board)\n",
    "    #board[ai_move] = \"O\"\n",
    "    board[ai_move_depth_limited] = \"O\"\n",
    "    \n",
    "    if check_win(board, \"O\"):\n",
    "        display_board(board)\n",
    "        print(\"AI wins!\")\n",
    "        break\n",
    "    \n",
    "    if check_draw(board):\n",
    "        display_board(board)\n",
    "        print(\"It's a draw!\")\n",
    "        break"
   ]
  },
  {
   "cell_type": "markdown",
   "metadata": {},
   "source": [
    "Change the human player with a random player"
   ]
  },
  {
   "cell_type": "code",
   "execution_count": 18,
   "metadata": {},
   "outputs": [
    {
     "name": "stdout",
     "output_type": "stream",
     "text": [
      "  |   |  \n",
      "---------\n",
      "  |   |  \n",
      "---------\n",
      "  |   |  \n",
      " \n",
      "\n",
      "\n",
      "\n",
      "Randomly Chosen Move: 3\n",
      "O |   |  \n",
      "---------\n",
      "X |   |  \n",
      "---------\n",
      "  |   |  \n",
      " \n",
      "\n",
      "\n",
      "\n",
      "Randomly Chosen Move: 4\n",
      "O |   |  \n",
      "---------\n",
      "X | X | O\n",
      "---------\n",
      "  |   |  \n",
      " \n",
      "\n",
      "\n",
      "\n",
      "Randomly Chosen Move: 8\n",
      "O | O |  \n",
      "---------\n",
      "X | X | O\n",
      "---------\n",
      "  |   | X\n",
      " \n",
      "\n",
      "\n",
      "\n",
      "Randomly Chosen Move: 7\n",
      "O | O | O\n",
      "---------\n",
      "X | X | O\n",
      "---------\n",
      "  | X | X\n",
      "AI wins!\n"
     ]
    }
   ],
   "source": [
    "#TO DO: \n",
    "# get valid moves\n",
    "# play random valid move\n",
    "\n",
    "def clear_board(board):\n",
    "    for i in range(9):\n",
    "        board[i] = ' '\n",
    "\n",
    "clear_board(board)\n",
    "\n",
    "while True:\n",
    "    display_board(board)\n",
    "    print(\" \\n\\n\\n\")\n",
    "    moves = []\n",
    "    for i in range(9):\n",
    "        if board[i] == ' ':\n",
    "            moves.append(i)\n",
    "    import random\n",
    "\n",
    "    move = random.choice(moves)\n",
    "    \n",
    "    print(\"Randomly Chosen Move:\", move)\n",
    "\n",
    "    player_move = int(move)\n",
    "    \n",
    "    if board[player_move] != \" \":\n",
    "        print(\"Invalid move. Try again.\")\n",
    "        continue\n",
    "    \n",
    "    board[player_move] = \"X\"\n",
    "    \n",
    "    if check_win(board, \"X\"):\n",
    "        display_board(board)\n",
    "        print(\"You win!\")\n",
    "        break\n",
    "    \n",
    "    if check_draw(board):\n",
    "        display_board(board)\n",
    "        print(\"It's a draw!\")\n",
    "        break\n",
    "    \n",
    "    ai_move = best_move(board)\n",
    "    board[ai_move] = \"O\"\n",
    "    \n",
    "    if check_win(board, \"O\"):\n",
    "        display_board(board)\n",
    "        print(\"AI wins!\")\n",
    "        break\n",
    "    \n",
    "    if check_draw(board):\n",
    "        display_board(board)\n",
    "        print(\"It's a draw!\")\n",
    "        break"
   ]
  },
  {
   "cell_type": "markdown",
   "metadata": {},
   "source": [
    "Modify the minimax method so that it uses the depth parameter. Test how a depth of 3 compares to a player than can make moves until the game is over."
   ]
  },
  {
   "cell_type": "code",
   "execution_count": 19,
   "metadata": {},
   "outputs": [],
   "source": [
    "def minimax_depth_limited(board, maximizing_player, depth=3):\n",
    "    # Base cases: check for terminal states\n",
    "    if check_win(board, \"O\"):\n",
    "        return 1\n",
    "    if check_win(board, \"X\"):\n",
    "        return -1\n",
    "    if check_draw(board) or depth == 0:\n",
    "        return 0\n",
    "\n",
    "    if maximizing_player:\n",
    "        max_eval = float(\"-inf\")\n",
    "        for i in range(9):\n",
    "            if board[i] == \" \":\n",
    "                board[i] = \"O\"\n",
    "                eval = minimax(board, depth - 1, False)\n",
    "                board[i] = \" \"\n",
    "                max_eval = max(max_eval, eval)\n",
    "        return max_eval\n",
    "    else:\n",
    "        min_eval = float(\"inf\")\n",
    "        for i in range(9):\n",
    "            if board[i] == \" \":\n",
    "                board[i] = \"X\"\n",
    "                eval = minimax(board, depth - 1, True)\n",
    "                board[i] = \" \"\n",
    "                min_eval = min(min_eval, eval)\n",
    "        return min_eval\n"
   ]
  }
 ],
 "metadata": {
  "colab": {
   "collapsed_sections": [],
   "name": "Lab06_AI.ipynb",
   "provenance": []
  },
  "kernelspec": {
   "display_name": "Python 3",
   "language": "python",
   "name": "python3"
  },
  "language_info": {
   "codemirror_mode": {
    "name": "ipython",
    "version": 3
   },
   "file_extension": ".py",
   "mimetype": "text/x-python",
   "name": "python",
   "nbconvert_exporter": "python",
   "pygments_lexer": "ipython3",
   "version": "3.11.9"
  }
 },
 "nbformat": 4,
 "nbformat_minor": 1
}
